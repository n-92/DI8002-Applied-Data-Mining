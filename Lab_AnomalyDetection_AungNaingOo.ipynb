{
 "cells": [
  {
   "cell_type": "markdown",
   "metadata": {},
   "source": [
    "<h3><center>Applied Data Mining</center></h3>\n",
    "<h1><center>Lab 6: Anomaly Detection</h1>\n",
    "<h3>Aung Naing Oo</h3><hr/>\n",
    "\n",
    "The objective of this lab is to learn to perform anomaly detection using Jupyter Notebook."
   ]
  },
  {
   "cell_type": "markdown",
   "metadata": {},
   "source": [
    "#### A Boxplot and a Probablity Density Function Comparison **"
   ]
  },
  {
   "cell_type": "markdown",
   "metadata": {},
   "source": [
    "<img src=\"lab2_data/boxplot_description.png\" alt=\"Drawing\" style=\"width: 500px;\">\n",
    "<img src=\"lab2_data/boxplot_description2.png\" alt=\"Drawing\" style=\"width: 500px;\">"
   ]
  },
  {
   "cell_type": "markdown",
   "metadata": {},
   "source": [
    "**  https://jingwen-z.github.io/what-is-box-plot/"
   ]
  },
  {
   "cell_type": "markdown",
   "metadata": {},
   "source": [
    "### Task A (Graphical approach)\n",
    "Import 'Stamps_01.csv' dataset. The data represents features of the forged stamps and the genuine ones. The color and printing qualities of the stamps are used for features extraction. Outliters are the forged stamps. The data is taken from the folowing URL\n",
    "\n",
    "http://lapad-web.icmc.usp.br/repositories/outlier-evaluation/DAMI/semantic/Stamps/\n",
    "\n",
    "> __Draw boxplots for variable D1 and D2.__\n",
    "\n",
    ">1. How many outliers does D1 have? How many outliers does D2 have?\n",
    ">1. What are Q1 and Q3 in D1 and D2?\n",
    ">1. What are min, max, median in D1 and D2?\n",
    ">1. Draw a scatter plot for D1 and D2.\n",
    ">1. Can you easily recognize outliers in scatter plot?"
   ]
  },
  {
   "cell_type": "code",
   "execution_count": 93,
   "metadata": {},
   "outputs": [
    {
     "name": "stdout",
     "output_type": "stream",
     "text": [
      "Q1 : 0.047947000000000004\n",
      "Q3 : 0.110009\n",
      "Median : 0.075235\n",
      "Minimum:  -0.04514599999999998 Maximum:  0.20310199999999998\n",
      "Number of outliers: 14\n"
     ]
    },
    {
     "data": {
      "image/png": "[encoded data removed]",
      "text/plain": [
       "<Figure size 432x288 with 1 Axes>"
      ]
     },
     "metadata": {
      "needs_background": "light"
     },
     "output_type": "display_data"
    }
   ],
   "source": [
    "\"\"\"\n",
    "Please, write your solution here.\n",
    "\"\"\"\n",
    "\n",
    "import pandas as pd\n",
    "import numpy as np\n",
    "import matplotlib.pyplot as plt\n",
    "\n",
    "df = pd.read_csv('lab2_data/Stamps_01.csv')\n",
    "data1 = df['data1']\n",
    "plt.boxplot(data1)\n",
    "\n",
    "q1 = np.quantile(data1, 0.25)\n",
    "print(\"Q1 :\",q1)\n",
    "\n",
    "q3 = np.quantile(data1, 0.75)\n",
    "print(\"Q3 :\",q3)\n",
    "\n",
    "median = np.median(data1)\n",
    "print(\"Median :\",median)\n",
    "\n",
    "iqr = q3-q1\n",
    "\n",
    "maximum = q3+(1.5*iqr)\n",
    "minimum = q1-(1.5*iqr)\n",
    "print(\"Minimum: \",minimum, \"Maximum: \",maximum)\n",
    "\n",
    "d1_outliers = data1[(data1 <= minimum) | (data1 >= maximum)]\n",
    "print(\"Number of outliers:\",len(d1_outliers))\n"
   ]
  },
  {
   "cell_type": "code",
   "execution_count": 94,
   "metadata": {},
   "outputs": [
    {
     "name": "stdout",
     "output_type": "stream",
     "text": [
      "Q1 : 0.339273\n",
      "Q3 : 0.4369515\n",
      "Median : 0.425226\n",
      "Minimum:  0.19275525 Maximum:  0.58346925\n",
      "Number of outliers: 101\n"
     ]
    },
    {
     "data": {
      "image/png": "[encoded data removed]",
      "text/plain": [
       "<Figure size 432x288 with 1 Axes>"
      ]
     },
     "metadata": {
      "needs_background": "light"
     },
     "output_type": "display_data"
    }
   ],
   "source": [
    "data2 = df['data2']\n",
    "plt.boxplot(data2)\n",
    "\n",
    "q1 = np.quantile(data2, 0.25)\n",
    "print(\"Q1 :\",q1)\n",
    "\n",
    "q3 = np.quantile(data2, 0.75)\n",
    "print(\"Q3 :\",q3)\n",
    "\n",
    "median = np.median(data2)\n",
    "print(\"Median :\",median)\n",
    "\n",
    "iqr = q3-q1\n",
    "\n",
    "maximum = q3+(1.5*iqr)\n",
    "minimum = q1-(1.5*iqr)\n",
    "print(\"Minimum: \",minimum, \"Maximum: \",maximum)\n",
    "\n",
    "d2_outliers = data2[(data2 <= minimum) | (data2 >= maximum)]\n",
    "print(\"Number of outliers:\",len(d2_outliers))"
   ]
  },
  {
   "cell_type": "code",
   "execution_count": 89,
   "metadata": {},
   "outputs": [
    {
     "name": "stdout",
     "output_type": "stream",
     "text": [
      "The outliers can be slightly recognized here based of cutting off in continuation of the diagonal line.\n"
     ]
    },
    {
     "data": {
      "image/png": "[encoded data removed]",
      "text/plain": [
       "<Figure size 432x288 with 1 Axes>"
      ]
     },
     "metadata": {
      "needs_background": "light"
     },
     "output_type": "display_data"
    }
   ],
   "source": [
    "\"\"\"\n",
    "Please, write your solution here.\n",
    "\"\"\"\n",
    "plt.scatter(data1,data1)\n",
    "print(\"The outliers can be slightly recognized here based of cutting off in continuation of the diagonal line.\")"
   ]
  },
  {
   "cell_type": "code",
   "execution_count": 90,
   "metadata": {},
   "outputs": [
    {
     "name": "stdout",
     "output_type": "stream",
     "text": [
      "The outliers for this plot is not recognisable at all from the scatter plot\n"
     ]
    },
    {
     "data": {
      "image/png": "[encoded data removed]",
      "text/plain": [
       "<Figure size 432x288 with 1 Axes>"
      ]
     },
     "metadata": {
      "needs_background": "light"
     },
     "output_type": "display_data"
    }
   ],
   "source": [
    "plt.scatter(data2,data2)\n",
    "print(\"The outliers for this plot is not recognisable at all from the scatter plot\")"
   ]
  },
  {
   "cell_type": "markdown",
   "metadata": {},
   "source": [
    "### Task B (Local Outlier Factor - LOF)\n",
    "\n",
    "You are going to use 'Stamps04' dataset.\n",
    "\n",
    ">1. Perform a LOF analysis.\n",
    "    - fitting the model\n",
    "    - predicting the outliters and inliers\n",
    ">1. Carry out a dimension reduction on the same data and extract the principal components. Carry out an LOF on the components and compare your results with the previous question."
   ]
  },
  {
   "cell_type": "code",
   "execution_count": 91,
   "metadata": {
    "scrolled": true
   },
   "outputs": [
    {
     "name": "stdout",
     "output_type": "stream",
     "text": [
      "Number of outliers: 312\n",
      "Number of inliers: 13\n"
     ]
    }
   ],
   "source": [
    "from pyod.models.lof import LOF\n",
    "from pyod.utils.utility import standardizer\n",
    "from pyod.utils.data import evaluate_print\n",
    "df = pd.read_csv('lab2_data/Stamps_04.csv')\n",
    "dfn = standardizer(df.drop('Labels',1))\n",
    "clf = LOF(n_neighbors=3,contamination=1/25)\n",
    "clf.fit(dfn)\n",
    "df['AnomalyScore'] = clf.decision_scores_\n",
    "\n",
    "\"\"\"\n",
    "labels_ : int, either 0 or 1\n",
    "        The binary labels of the training data. 0 stands for inliers\n",
    "        and 1 for outliers/anomalies. It is generated by applying\n",
    "        ``threshold_`` on ``decision_scores_``.\n",
    "\n",
    "\"\"\"\n",
    "df['AnomalyLabel'] = clf.labels_\n",
    "\n",
    "\n",
    "_outliers = df['AnomalyLabel'] [ df['AnomalyLabel']  == 0]\n",
    "_inliers = df['AnomalyLabel'] [ df['AnomalyLabel']  == 1]\n",
    "\n",
    "print(\"Number of outliers:\", len(_outliers))\n",
    "print(\"Number of inliers:\", len(_inliers))"
   ]
  },
  {
   "cell_type": "code",
   "execution_count": 92,
   "metadata": {},
   "outputs": [
    {
     "name": "stdout",
     "output_type": "stream",
     "text": [
      "Number of outliers: 312\n",
      "Number of inliers: 13\n"
     ]
    }
   ],
   "source": [
    "from sklearn.decomposition import PCA\n",
    "\n",
    "df = pd.read_csv('lab2_data/Stamps_04.csv')\n",
    "dfn = standardizer(df.drop('Labels',1))\n",
    "pca = PCA(n_components=3) #values tried from 1-9 for n_components\n",
    "pca_fitted_X = pca.fit_transform(dfn)\n",
    "\n",
    "clf = LOF(n_neighbors=3,contamination=1/25)\n",
    "clf.fit(pca_fitted_X)\n",
    "df['AnomalyScore'] = clf.decision_scores_\n",
    "\n",
    "labels = clf.labels_\n",
    "\n",
    "\n",
    "_outliers = labels[ labels  == 0]\n",
    "_inliers = labels[ labels  == 1]\n",
    "\n",
    "print(\"Number of outliers:\", len(_outliers))\n",
    "print(\"Number of inliers:\", len(_inliers))"
   ]
  },
  {
   "cell_type": "code",
   "execution_count": 72,
   "metadata": {},
   "outputs": [
    {
     "name": "stdout",
     "output_type": "stream",
     "text": [
      "Makes no difference in terms of outliers and inliers after performing PCA\n"
     ]
    }
   ],
   "source": [
    "print(\"Makes no difference in terms of outliers and inliers after performing PCA\")"
   ]
  },
  {
   "cell_type": "markdown",
   "metadata": {},
   "source": [
    "<div class=\"alert alert-block alert-danger\">\n",
    "\n",
    "__IMPORTANT__ \n",
    "\n",
    "Please complete this Jupyter Notebook file and submit it to the Blackboard within __three weeks__ after this lab session. __Change the name of your notebook file__ to include  `first and last names` of you and your group mates, e.g. \"`NameSurname_NameSurname.ipynb`\".\n",
    "\n",
    "</div>"
   ]
  }
 ],
 "metadata": {
  "kernelspec": {
   "display_name": "Python 3 (ipykernel)",
   "language": "python",
   "name": "python3"
  },
  "language_info": {
   "codemirror_mode": {
    "name": "ipython",
    "version": 3
   },
   "file_extension": ".py",
   "mimetype": "text/x-python",
   "name": "python",
   "nbconvert_exporter": "python",
   "pygments_lexer": "ipython3",
   "version": "3.7.11"
  }
 },
 "nbformat": 4,
 "nbformat_minor": 2
}
