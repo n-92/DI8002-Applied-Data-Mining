{
 "cells": [
  {
   "cell_type": "markdown",
   "metadata": {},
   "source": [
    "<h3><center>Applied Data Mining</center></h3>\n",
    "<h1><center>Lab : Clustering</center></h1>\n",
    "<h4>Aung Naing Oo</h4><hr/>\n",
    "In this lab, we use data sets of Iris_01 and sample-iris. Both data sets are the data describing 3 different species of iris flowers. It consists of four features describing the length and width of the sepals and petals of the flowers.\n",
    "\n",
    "### Task A - 1\n",
    "\n",
    "In this task, you will \n",
    "- perform `k-means` clustering on the data\n",
    "- visualise the data and the clusters\n",
    "\n",
    "You have to create a classifier, fit the data, and predict the classes. The following skills will be required.\n",
    "\n",
    "- Using pandas, loading the data in a dataframe, and creating a numpy array from the dataframe.\n",
    "- Using the `sklearn k-means` clustering function.\n",
    "- Converting the data to a 2D representation using PCA, and creating a scatter plot using `matplotlib`.\n",
    "\n",
    "Perform the following tasks:\n",
    "1. Load the dataset `Iris_01` in a dataframe\n",
    "1. Put the feature values in a numpy array\n",
    "1. Draw a boxplot of the dataset\n",
    "1. From `sklearn.cluster`, import `KMeans`, and from `sklearn.metrics`, import `silhouette_samples` and `silhouette_score`.\n",
    "1. Make a 2D plot of the clusters and the cluster centres. To reduce the 4D data (the four features) to 2D, use the `PCA` function which can be imported from `sklearn.decomposition`. \n",
    "1. Repeat the above with two and four clusters."
   ]
  },
  {
   "cell_type": "code",
   "execution_count": 40,
   "metadata": {},
   "outputs": [
    {
     "data": {
      "text/html": [
       "<div>\n",
       "<style scoped>\n",
       "    .dataframe tbody tr th:only-of-type {\n",
       "        vertical-align: middle;\n",
       "    }\n",
       "\n",
       "    .dataframe tbody tr th {\n",
       "        vertical-align: top;\n",
       "    }\n",
       "\n",
       "    .dataframe thead th {\n",
       "        text-align: right;\n",
       "    }\n",
       "</style>\n",
       "<table border=\"1\" class=\"dataframe\">\n",
       "  <thead>\n",
       "    <tr style=\"text-align: right;\">\n",
       "      <th></th>\n",
       "      <th>species</th>\n",
       "      <th>Sepal_Length</th>\n",
       "      <th>Sepal_Width</th>\n",
       "      <th>Petal_Length</th>\n",
       "      <th>Petal_Width</th>\n",
       "    </tr>\n",
       "  </thead>\n",
       "  <tbody>\n",
       "    <tr>\n",
       "      <th>0</th>\n",
       "      <td>setosa</td>\n",
       "      <td>5.1</td>\n",
       "      <td>3.5</td>\n",
       "      <td>1.4</td>\n",
       "      <td>0.2</td>\n",
       "    </tr>\n",
       "    <tr>\n",
       "      <th>1</th>\n",
       "      <td>setosa</td>\n",
       "      <td>4.9</td>\n",
       "      <td>3.0</td>\n",
       "      <td>1.4</td>\n",
       "      <td>0.2</td>\n",
       "    </tr>\n",
       "    <tr>\n",
       "      <th>2</th>\n",
       "      <td>setosa</td>\n",
       "      <td>4.7</td>\n",
       "      <td>3.2</td>\n",
       "      <td>1.3</td>\n",
       "      <td>0.2</td>\n",
       "    </tr>\n",
       "    <tr>\n",
       "      <th>3</th>\n",
       "      <td>setosa</td>\n",
       "      <td>4.6</td>\n",
       "      <td>3.1</td>\n",
       "      <td>1.5</td>\n",
       "      <td>0.2</td>\n",
       "    </tr>\n",
       "    <tr>\n",
       "      <th>4</th>\n",
       "      <td>setosa</td>\n",
       "      <td>5.0</td>\n",
       "      <td>3.6</td>\n",
       "      <td>1.4</td>\n",
       "      <td>0.2</td>\n",
       "    </tr>\n",
       "    <tr>\n",
       "      <th>5</th>\n",
       "      <td>setosa</td>\n",
       "      <td>5.4</td>\n",
       "      <td>3.9</td>\n",
       "      <td>1.7</td>\n",
       "      <td>0.4</td>\n",
       "    </tr>\n",
       "    <tr>\n",
       "      <th>6</th>\n",
       "      <td>setosa</td>\n",
       "      <td>4.6</td>\n",
       "      <td>3.4</td>\n",
       "      <td>1.4</td>\n",
       "      <td>0.3</td>\n",
       "    </tr>\n",
       "    <tr>\n",
       "      <th>7</th>\n",
       "      <td>setosa</td>\n",
       "      <td>5.0</td>\n",
       "      <td>3.4</td>\n",
       "      <td>1.5</td>\n",
       "      <td>0.2</td>\n",
       "    </tr>\n",
       "    <tr>\n",
       "      <th>8</th>\n",
       "      <td>setosa</td>\n",
       "      <td>4.4</td>\n",
       "      <td>2.9</td>\n",
       "      <td>1.4</td>\n",
       "      <td>0.2</td>\n",
       "    </tr>\n",
       "    <tr>\n",
       "      <th>9</th>\n",
       "      <td>setosa</td>\n",
       "      <td>4.9</td>\n",
       "      <td>3.1</td>\n",
       "      <td>1.5</td>\n",
       "      <td>0.1</td>\n",
       "    </tr>\n",
       "  </tbody>\n",
       "</table>\n",
       "</div>"
      ],
      "text/plain": [
       "  species  Sepal_Length  Sepal_Width  Petal_Length  Petal_Width\n",
       "0  setosa           5.1          3.5           1.4          0.2\n",
       "1  setosa           4.9          3.0           1.4          0.2\n",
       "2  setosa           4.7          3.2           1.3          0.2\n",
       "3  setosa           4.6          3.1           1.5          0.2\n",
       "4  setosa           5.0          3.6           1.4          0.2\n",
       "5  setosa           5.4          3.9           1.7          0.4\n",
       "6  setosa           4.6          3.4           1.4          0.3\n",
       "7  setosa           5.0          3.4           1.5          0.2\n",
       "8  setosa           4.4          2.9           1.4          0.2\n",
       "9  setosa           4.9          3.1           1.5          0.1"
      ]
     },
     "execution_count": 40,
     "metadata": {},
     "output_type": "execute_result"
    }
   ],
   "source": [
    "# We need the data set\n",
    "import pandas as pd\n",
    "data = pd.read_csv('lab2_data/Iris_01.csv')\n",
    "data.head(10)"
   ]
  },
  {
   "cell_type": "code",
   "execution_count": 12,
   "metadata": {},
   "outputs": [
    {
     "data": {
      "text/plain": [
       "<AxesSubplot:>"
      ]
     },
     "execution_count": 12,
     "metadata": {},
     "output_type": "execute_result"
    },
    {
     "data": {
      "image/png": "[encoded data removed]",
      "text/plain": [
       "<Figure size 432x288 with 1 Axes>"
      ]
     },
     "metadata": {
      "needs_background": "light"
     },
     "output_type": "display_data"
    }
   ],
   "source": [
    "# Create the numpy arrays with values and make a box plot of the data\n",
    "numpy_array = data.to_numpy()\n",
    "\n",
    "\n",
    "#Box plot can be done by using data frames straightaway. \n",
    "data.boxplot()"
   ]
  },
  {
   "cell_type": "code",
   "execution_count": 116,
   "metadata": {},
   "outputs": [],
   "source": [
    "# importing packages for KMeans and silhouette (samples, and score)\n",
    "# Use data, X for example\n",
    "# set the number of clusters\n",
    "# fit to X\n",
    "# do prediction\n",
    "# get labels\n",
    "# get cluster centers\n",
    "# get inertia\n",
    "# find the silhouetter average by using the X and labels\n",
    "\n",
    "from sklearn.cluster import KMeans\n",
    "from sklearn import metrics\n",
    "from sklearn.metrics import pairwise_distances\n",
    "\n",
    "\n",
    "X = data.drop(columns=['species'])\n",
    "y = data.drop(columns=['Sepal_Length','Sepal_Width','Petal_Length','Petal_Width'])\n",
    "\n",
    "km = KMeans(n_clusters=3, random_state=42)\n",
    "km.fit_predict(X)\n",
    "labels = km.labels_\n",
    "cluster_centers = km.cluster_centers_\n",
    "inertias = km.inertia_\n",
    "score = metrics.silhouette_score(X, labels, metric='euclidean')\n"
   ]
  },
  {
   "cell_type": "code",
   "execution_count": 109,
   "metadata": {},
   "outputs": [
    {
     "name": "stdout",
     "output_type": "stream",
     "text": [
      "Silhouetee score: \n",
      "0.5528190123564102\n",
      "\n",
      "\n",
      "Inertia score: \n",
      "78.85144142614601\n"
     ]
    }
   ],
   "source": [
    "print (\"Silhouetee score: \")\n",
    "print(score)\n",
    "print(\"\\n\")\n",
    "print (\"Inertia score: \")\n",
    "print(inertias)"
   ]
  },
  {
   "cell_type": "code",
   "execution_count": 56,
   "metadata": {},
   "outputs": [],
   "source": [
    "# 4 dimensions of data\n",
    "# reduce it to 2 using Principal Component Analysis (PCA) \n",
    "# import PCA from sklearn\n",
    "# do a pca analysis (PCA(n_components=2).fit(data))\n",
    "# do a pca transform\n",
    "# do a pca transform on the cluster centers you found previously (cluster centers in 2d)\n",
    "from sklearn.decomposition import PCA\n",
    "pca = PCA(n_components=2)\n",
    "pca_fitted_X = pca.fit_transform(X)\n",
    "pca_transformed_centers = pca.fit_transform(cluster_centers)"
   ]
  },
  {
   "cell_type": "code",
   "execution_count": 106,
   "metadata": {},
   "outputs": [
    {
     "data": {
      "text/plain": [
       "<matplotlib.collections.PathCollection at 0x7f88d975fd00>"
      ]
     },
     "execution_count": 106,
     "metadata": {},
     "output_type": "execute_result"
    },
    {
     "data": {
      "image/png": "[encoded data removed]",
      "text/plain": [
       "<Figure size 432x288 with 1 Axes>"
      ]
     },
     "metadata": {
      "needs_background": "light"
     },
     "output_type": "display_data"
    }
   ],
   "source": [
    "# plotting\n",
    "# plot the 1st component against the 2nd one\n",
    "# plot the cluster centers\n",
    "# Create figure\n",
    "\n",
    "#1st and 2nd components\n",
    "plt.scatter(pca_fitted_X[:, 0], pca_fitted[:, 1],alpha=0.1)\n",
    "\n",
    "#cluster centers with green, red and black in colors\n",
    "plt.scatter(pca_transformed_centers[:, 0], pca_transformed_centers[:, 1],c=['g','r','k'], alpha=1)"
   ]
  },
  {
   "cell_type": "markdown",
   "metadata": {},
   "source": [
    "__Questions__: Answer the following questions for the report:\n",
    "1. What does the inertia signify?\n",
    "1. What does the silhouette score signify?\n",
    "1. We know there are three classes, and that three clusters would be optimal. What does the inertia and silhouette scores suggest as the right number of clusters?"
   ]
  },
  {
   "cell_type": "markdown",
   "metadata": {},
   "source": [
    "\"\"\"TODO:\n",
    "Answer the above questions here.\n",
    "\"\"\"\n",
    "1. Inertia is the sum of squared distances of samples to their closest cluster center. In other words, the smaller the figure, the closer the sample is to the cluster center. \n",
    "\n",
    "2. Silhouette score measures how similar a sample is to its own cluster relative to other clusters. A high score indicates a strong cohesian of the sample with its cluster. Values range from [-1 to 1]\n",
    "\n",
    "3. Silhouette score is 0.55 which is rather poor. A high score would be generally closer to 1. The ideal number of clusters to be set can be found by performing a Silhouette analysis. \n",
    "To improve the inertia score (i.e <78.85), a higher cluster number can be chosen. Perfect inertia score of 0 can be achieved by setting k to the sample size, but it would defeat the purpose of clustering. Hence, Elbow Method can be used to find a better k size.\n",
    "But from the pca plot above, ideally k=2 would be enough to cluster the samples.\n"
   ]
  },
  {
   "cell_type": "markdown",
   "metadata": {},
   "source": [
    "### Task A - 2\n",
    "\n",
    "For the following dataset:"
   ]
  },
  {
   "cell_type": "code",
   "execution_count": 142,
   "metadata": {},
   "outputs": [
    {
     "data": {
      "text/plain": [
       "Text(0, 0.5, 'Feature 2')"
      ]
     },
     "execution_count": 142,
     "metadata": {},
     "output_type": "execute_result"
    },
    {
     "data": {
      "image/png": "[encoded data removed]",
      "text/plain": [
       "<Figure size 432x288 with 1 Axes>"
      ]
     },
     "metadata": {
      "needs_background": "light"
     },
     "output_type": "display_data"
    }
   ],
   "source": [
    "# https://scikit-learn.org/stable/auto_examples/cluster/plot_kmeans_silhouette_analysis.html\n",
    "\n",
    "from sklearn.datasets import make_blobs\n",
    "from sklearn.cluster import KMeans\n",
    "from sklearn.metrics import silhouette_score\n",
    "from matplotlib import pyplot as plt\n",
    "\n",
    "X, y = make_blobs(n_samples=500,\n",
    "                  n_features=2,\n",
    "                  centers=4,\n",
    "                  cluster_std=1,\n",
    "                  center_box=(-10.0, 10.0),\n",
    "                  shuffle=True,\n",
    "                  random_state=1)  # For reproducibility\n",
    "plt.figure(1)\n",
    "plt.rcParams.update({'font.size': 10})\n",
    "plt.scatter(X[:,0],X[:,1])\n",
    "plt.xlabel('Feature 1')\n",
    "plt.ylabel('Feature 2')"
   ]
  },
  {
   "cell_type": "markdown",
   "metadata": {},
   "source": [
    "for k values of 2,3,4,5,6, and 7\n",
    "- Find Silhouette Scores\n",
    "- plot k values against the Silhouette Scores"
   ]
  },
  {
   "cell_type": "code",
   "execution_count": 147,
   "metadata": {},
   "outputs": [
    {
     "data": {
      "image/png": "[encoded data removed]",
      "text/plain": [
       "<Figure size 432x288 with 1 Axes>"
      ]
     },
     "metadata": {
      "needs_background": "light"
     },
     "output_type": "display_data"
    }
   ],
   "source": [
    "k=[2,3,4,5,6,7]\n",
    "SC=[]\n",
    "for j in range(len(k)):    \n",
    "    km = KMeans(n_clusters=k[j], random_state=42)\n",
    "    km.fit_predict(X)\n",
    "    sc = silhouette_score(X, km.labels_, metric='euclidean')\n",
    "    SC.append(sc)\n",
    "    plt.scatter(k[j],SC[j])"
   ]
  },
  {
   "cell_type": "markdown",
   "metadata": {},
   "source": [
    "- Set K to 4\n",
    "- Find kemeans\n",
    "- Find the values of Silhoutte Scores\n",
    "- Find the scatter plot of the data (1st column against the 2nd column)\n",
    "- Find the scatter plot of the cluster centers\n",
    "  "
   ]
  },
  {
   "cell_type": "code",
   "execution_count": 153,
   "metadata": {},
   "outputs": [
    {
     "name": "stdout",
     "output_type": "stream",
     "text": [
      "[[ -2.13336832   5.18504632]\n",
      " [ -9.04321812  -3.90513228]\n",
      " [ -7.76203194  -7.5890664 ]\n",
      " [ -1.10727786   3.88318811]\n",
      " [ -6.0155412   -3.1515097 ]\n",
      " [ -6.35009809  -8.6405868 ]\n",
      " [-10.71316116  -3.73593211]]\n"
     ]
    },
    {
     "data": {
      "text/plain": [
       "<matplotlib.collections.PathCollection at 0x7f88d81c1cd0>"
      ]
     },
     "execution_count": 153,
     "metadata": {},
     "output_type": "execute_result"
    },
    {
     "data": {
      "image/png": "[encoded data removed]",
      "text/plain": [
       "<Figure size 432x288 with 1 Axes>"
      ]
     },
     "metadata": {
      "needs_background": "light"
     },
     "output_type": "display_data"
    }
   ],
   "source": [
    "# plotting the k-means centroids\n",
    "k=4\n",
    "kmeans = KMeans(n_clusters=k)\n",
    "kmeans.fit(X)\n",
    "sc= silhouette_score(X, kmeans.labels_, metric='euclidean')\n",
    "plt.scatter(X[:,0],X[:,1],alpha=0.1)\n",
    "cluster_centers = km.cluster_centers_\n",
    "print(cluster_centers)\n",
    "plt.scatter(cluster_centers[:,0],cluster_centers[:,1],c=['r'],alpha=1)\n",
    "\n"
   ]
  },
  {
   "cell_type": "markdown",
   "metadata": {},
   "source": [
    "### Task B\n",
    "For this task, we are going to use the dataset 'sample-iris'. Carry out the following analyses.\n",
    "1. Draw hierarchical clusters based on first and second columns? \n",
    "1. How many instances does the data have based on dendrogram?\n",
    "1. Draw hierarchical clusters based on all columns? How does the dendrogram change?\n",
    "\n",
    "1. What is the best number of clusters for the data points represented by dendrogram? (__Hint__: The horizontal line that crossess the vertical lines of cluters distance / dissimilarity.)\n",
    "1. Run DBSCAN clustering on iris dataset.\n",
    "1. Change the different parameters and rerun the code.\n",
    "1. How does the result change based on different parameters?"
   ]
  },
  {
   "cell_type": "code",
   "execution_count": 3,
   "metadata": {},
   "outputs": [],
   "source": [
    "\"\"\"TODO:\n",
    "Answer the above questions here.\n",
    "\"\"\"\n",
    "import numpy as np\n",
    "\n",
    "from matplotlib import pyplot as plt\n",
    "from scipy.cluster.hierarchy import dendrogram\n",
    "from sklearn.datasets import load_iris\n",
    "from sklearn.cluster import AgglomerativeClustering\n",
    "import scipy.cluster.hierarchy as shc\n",
    "\n",
    "#Ref: https://scikit-learn.org/stable/auto_examples/cluster/plot_agglomerative_dendrogram.html#\n",
    "def plot_dendrogram(model, **kwargs):\n",
    "    # Create linkage matrix and then plot the dendrogram\n",
    "\n",
    "    # create the counts of samples under each node\n",
    "    counts = np.zeros(model.children_.shape[0])\n",
    "    n_samples = len(model.labels_)\n",
    "    for i, merge in enumerate(model.children_):\n",
    "        current_count = 0\n",
    "        for child_idx in merge:\n",
    "            if child_idx < n_samples:\n",
    "                current_count += 1  # leaf node\n",
    "            else:\n",
    "                current_count += counts[child_idx - n_samples]\n",
    "        counts[i] = current_count\n",
    "\n",
    "    linkage_matrix = np.column_stack([model.children_, model.distances_, counts]).astype(float)\n",
    "\n",
    "    # Plot the corresponding dendrogram\n",
    "    dendrogram(linkage_matrix, **kwargs)"
   ]
  },
  {
   "cell_type": "code",
   "execution_count": 208,
   "metadata": {},
   "outputs": [
    {
     "data": {
      "image/png": "[encoded data removed]",
      "text/plain": [
       "<Figure size 1080x720 with 1 Axes>"
      ]
     },
     "metadata": {
      "needs_background": "light"
     },
     "output_type": "display_data"
    }
   ],
   "source": [
    "iris = load_iris()\n",
    "\n",
    "X = iris.data\n",
    "two_columns = X[:,[0,1]] #first two columns\n",
    "plt.figure(figsize=(15, 10))\n",
    "plt.title(\"IRIS Dendogram Two Columns\")\n",
    "dend = shc.dendrogram(shc.linkage(two_columns, method='ward'))\n"
   ]
  },
  {
   "cell_type": "code",
   "execution_count": 211,
   "metadata": {},
   "outputs": [
    {
     "data": {
      "text/plain": [
       "'\\n# setting distance_threshold=0 ensures we compute the full tree.\\nmodel = AgglomerativeClustering(distance_threshold=0, n_clusters=None) #also known as Bottom up \\n\\nmodel = model.fit(X)\\nplt.title(\"Hierarchical Clustering Dendrogram\")\\n# plot the top three levels of the dendrogram\\nplot_dendrogram(model, truncate_mode=\"level\", p=100)\\nplt.xlabel(\"Number of points in node (or index of point if no parenthesis).\")\\nplt.show()\\n'"
      ]
     },
     "execution_count": 211,
     "metadata": {},
     "output_type": "execute_result"
    }
   ],
   "source": [
    "\n",
    "\"\"\"\n",
    "# setting distance_threshold=0 ensures we compute the full tree.\n",
    "model = AgglomerativeClustering(distance_threshold=0, n_clusters=None) #also known as Bottom up \n",
    "\n",
    "model = model.fit(X)\n",
    "plt.title(\"Hierarchical Clustering Dendrogram\")\n",
    "# plot the top three levels of the dendrogram\n",
    "plot_dendrogram(model, truncate_mode=\"level\", p=100)\n",
    "plt.xlabel(\"Number of points in node (or index of point if no parenthesis).\")\n",
    "plt.show()\n",
    "\"\"\"\n",
    "#dir(dend)\n",
    "\n",
    "#Number of instances \n"
   ]
  },
  {
   "cell_type": "code",
   "execution_count": 209,
   "metadata": {},
   "outputs": [
    {
     "data": {
      "image/png": "[encoded data removed]",
      "text/plain": [
       "<Figure size 1080x720 with 1 Axes>"
      ]
     },
     "metadata": {
      "needs_background": "light"
     },
     "output_type": "display_data"
    }
   ],
   "source": [
    "plt.figure(figsize=(15, 10))\n",
    "plt.title(\"IRIS Dendogram All columns\")\n",
    "dend = shc.dendrogram(shc.linkage(X, method='ward'))"
   ]
  },
  {
   "cell_type": "markdown",
   "metadata": {},
   "source": [
    "3. The y labels which represents closeness of clusters have increased in scale "
   ]
  },
  {
   "cell_type": "markdown",
   "metadata": {},
   "source": [
    "4. The best number of clusters would be the horizontal line that passes through longest distance without another horizontal line. From the figure, a line can be drawn y=7. Then we end up with 4 clusters. "
   ]
  },
  {
   "cell_type": "code",
   "execution_count": 19,
   "metadata": {},
   "outputs": [
    {
     "name": "stdout",
     "output_type": "stream",
     "text": [
      "[ 0  0  0  0  0  0  0  0  0  0  0  0  0  0  0  0  0  0  0  0  0  0  0  0\n",
      "  0  0  0  0  0  0  0  0  0  0  0  0  0  0  0  0  0 -1  0  0  0  0  0  0\n",
      "  0  0  1  1  1  1  1  1  1 -1  1  1 -1  1  1  1  1  1  1  1 -1  1  1  1\n",
      "  1  1  1  1  1  1  1  1  1  1  1  1  1  1  1 -1  1  1  1  1  1 -1  1  1\n",
      "  1  1 -1  1  1  1  1  1  1 -1 -1  1 -1 -1  1  1  1  1  1  1  1 -1 -1  1\n",
      "  1  1 -1  1  1  1  1  1  1  1  1 -1  1  1 -1 -1  1  1  1  1  1  1  1  1\n",
      "  1  1  1  1  1  1]\n",
      "This will create two cluster of 0s and 1s labels. -1s are noise\n"
     ]
    }
   ],
   "source": [
    "#importing libraries\n",
    "from sklearn.cluster import DBSCAN\n",
    "iris = load_iris()\n",
    "\n",
    "X = iris.data\n",
    "#creates an instance of DBSCAN with default values for eps and min_samples.\n",
    "dbscan=DBSCAN(algorithm='auto', eps=0.5, leaf_size=30, metric='euclidean',\n",
    "    metric_params=None, min_samples=5, n_jobs=1, p=None)\n",
    "\n",
    "Y_preds = dbscan.fit(X)\n",
    "print(Y_preds.labels_)\n",
    "\n",
    "print(\"This will create two cluster of 0s and 1s labels. -1s are noise\")"
   ]
  },
  {
   "cell_type": "code",
   "execution_count": 33,
   "metadata": {},
   "outputs": [
    {
     "name": "stdout",
     "output_type": "stream",
     "text": [
      "[-1 -1 -1 -1 -1 -1 -1 -1 -1 -1 -1 -1 -1 -1 -1 -1 -1 -1 -1 -1 -1 -1 -1 -1\n",
      " -1 -1 -1 -1 -1 -1 -1 -1 -1 -1 -1 -1 -1 -1 -1 -1 -1 -1 -1 -1 -1 -1 -1 -1\n",
      " -1 -1 -1 -1 -1 -1 -1 -1 -1 -1 -1 -1 -1 -1 -1 -1 -1 -1 -1 -1 -1 -1 -1 -1\n",
      " -1 -1 -1 -1 -1 -1 -1 -1 -1 -1 -1 -1 -1 -1 -1 -1 -1 -1 -1 -1 -1 -1 -1 -1\n",
      " -1 -1 -1 -1 -1 -1 -1 -1 -1 -1 -1 -1 -1 -1 -1 -1 -1 -1 -1 -1 -1 -1 -1 -1\n",
      " -1 -1 -1 -1 -1 -1 -1 -1 -1 -1 -1 -1 -1 -1 -1 -1 -1 -1 -1 -1 -1 -1 -1 -1\n",
      " -1 -1 -1 -1 -1 -1]\n",
      "This will create only noisy points\n"
     ]
    }
   ],
   "source": [
    "X = iris.data\n",
    "\n",
    "#decrease the maximum distance between pair of samples. (i.e only short distance points will be grouped together)\n",
    "#increase the number of samples to consider for clustering. Output should only be noise with 0 clusters.\n",
    "dbscan=DBSCAN(algorithm='auto', eps=0.01, leaf_size=30, metric='euclidean',\n",
    "    metric_params=None, min_samples=100, n_jobs=1, p=None)\n",
    "\n",
    "Y_preds = dbscan.fit(X)\n",
    "print(Y_preds.labels_)\n",
    "\n",
    "print(\"This will create only noisy points\")"
   ]
  },
  {
   "cell_type": "code",
   "execution_count": 21,
   "metadata": {},
   "outputs": [
    {
     "name": "stdout",
     "output_type": "stream",
     "text": [
      "[0 0 0 0 0 0 0 0 0 0 0 0 0 0 0 0 0 0 0 0 0 0 0 0 0 0 0 0 0 0 0 0 0 0 0 0 0\n",
      " 0 0 0 0 0 0 0 0 0 0 0 0 0 1 1 1 1 1 1 1 1 1 1 1 1 1 1 1 1 1 1 1 1 1 1 1 1\n",
      " 1 1 1 1 1 1 1 1 1 1 1 1 1 1 1 1 1 1 1 1 1 1 1 1 1 1 1 1 1 1 1 1 1 1 1 1 1\n",
      " 1 1 1 1 1 1 1 1 1 1 1 1 1 1 1 1 1 1 1 1 1 1 1 1 1 1 1 1 1 1 1 1 1 1 1 1 1\n",
      " 1 1]\n",
      "This will create two clusters of labels 0s and 1s. -1s are noisy points\n"
     ]
    }
   ],
   "source": [
    "X = iris.data\n",
    "\n",
    "#increase the maximum distance between pair of samples. (i.e only short distance points will be grouped together)\n",
    "#increase the number of samples to consider for clustering\n",
    "dbscan=DBSCAN(algorithm='auto', eps=0.9, leaf_size=30, metric='euclidean',\n",
    "    metric_params=None, min_samples=10, n_jobs=1, p=None)\n",
    "\n",
    "Y_preds = dbscan.fit(X)\n",
    "print(Y_preds.labels_)\n",
    "print(\"This will create two clusters of labels 0s and 1s. -1s are noisy points\")\n",
    "\n"
   ]
  },
  {
   "cell_type": "code",
   "execution_count": 32,
   "metadata": {},
   "outputs": [
    {
     "name": "stdout",
     "output_type": "stream",
     "text": [
      "[0 0 0 0 0 0 0 0 0 0 0 0 0 0 0 0 0 0 0 0 0 0 0 0 0 0 0 0 0 0 0 0 0 0 0 0 0\n",
      " 0 0 0 0 0 0 0 0 0 0 0 0 0 0 0 0 0 0 0 0 0 0 0 0 0 0 0 0 0 0 0 0 0 0 0 0 0\n",
      " 0 0 0 0 0 0 0 0 0 0 0 0 0 0 0 0 0 0 0 0 0 0 0 0 0 0 0 0 0 0 0 0 0 0 0 0 0\n",
      " 0 0 0 0 0 0 0 0 0 0 0 0 0 0 0 0 0 0 0 0 0 0 0 0 0 0 0 0 0 0 0 0 0 0 0 0 0\n",
      " 0 0]\n",
      "This will classify all instances under one label 0\n"
     ]
    }
   ],
   "source": [
    "X = iris.data\n",
    "\n",
    "#high eps, low min_samples\n",
    "dbscan=DBSCAN(algorithm='auto', eps=20, leaf_size=30, metric='euclidean',\n",
    "    metric_params=None, min_samples=1, n_jobs=1, p=None)\n",
    "\n",
    "Y_preds = dbscan.fit(X)\n",
    "print(Y_preds.labels_)\n",
    "print(\"This will classify all instances under one label 0\")\n"
   ]
  },
  {
   "cell_type": "code",
   "execution_count": 41,
   "metadata": {},
   "outputs": [
    {
     "name": "stdout",
     "output_type": "stream",
     "text": [
      "[  0   1   2   3   4   5   6   7   8   9  10  11  12  13  14  15  16  17\n",
      "  18  19  20  21  22  23  24  25  26  27  28  29  30  31  32  33  34  35\n",
      "  36  37  38  39  40  41  42  43  44  45  46  47  48  49  50  51  52  53\n",
      "  54  55  56  57  58  59  60  61  62  63  64  65  66  67  68  69  70  71\n",
      "  72  73  74  75  76  77  78  79  80  81  82  83  84  85  86  87  88  89\n",
      "  90  91  92  93  94  95  96  97  98  99 100 101 102 103 104 105 106 107\n",
      " 108 109 110 111 112 113 114 115 116 117 118 119 120 121 122 123 124 125\n",
      " 126 127 128 129 130 131 132 133 134 135 136 137 138 139 140 141 101 142\n",
      " 143 144 145 146 147 148]\n",
      "This will classify all sample indices as their own cluster\n",
      "[  0   1   2   3   4   5   6   7   8   9  10  11  12  13  14  15  16  17\n",
      "  18  19  20  21  22  23  24  25  26  27  28  29  30  31  32  33  34  35\n",
      "  36  37  38  39  40  41  42  43  44  45  46  47  48  49  50  51  52  53\n",
      "  54  55  56  57  58  59  60  61  62  63  64  65  66  67  68  69  70  71\n",
      "  72  73  74  75  76  77  78  79  80  81  82  83  84  85  86  87  88  89\n",
      "  90  91  92  93  94  95  96  97  98  99 100 101 102 103 104 105 106 107\n",
      " 108 109 110 111 112 113 114 115 116 117 118 119 120 121 122 123 124 125\n",
      " 126 127 128 129 130 131 132 133 134 135 136 137 138 139 140 141 142 143\n",
      " 144 145 146 147 148 149]\n"
     ]
    }
   ],
   "source": [
    "X = iris.data\n",
    "\n",
    "#low eps and low min_sample\n",
    "dbscan=DBSCAN(algorithm='auto', eps=0.01, leaf_size=30, metric='euclidean',\n",
    "    metric_params=None, min_samples=1, n_jobs=1, p=None)\n",
    "\n",
    "Y_preds = dbscan.fit(X)\n",
    "print(Y_preds.labels_)\n",
    "print(\"This will classify all sample indices as their own cluster\")\n",
    "print(Y_preds.core_sample_indices_)"
   ]
  },
  {
   "cell_type": "code",
   "execution_count": 30,
   "metadata": {},
   "outputs": [
    {
     "name": "stdout",
     "output_type": "stream",
     "text": [
      "[0 0 0 0 0 0 0 0 0 0 0 0 0 0 0 0 0 0 0 0 0 0 0 0 0 0 0 0 0 0 0 0 0 0 0 0 0\n",
      " 0 0 0 0 0 0 0 0 0 0 0 0 0 0 0 0 0 0 0 0 0 0 0 0 0 0 0 0 0 0 0 0 0 0 0 0 0\n",
      " 0 0 0 0 0 0 0 0 0 0 0 0 0 0 0 0 0 0 0 0 0 0 0 0 0 0 0 0 0 0 0 0 0 0 0 0 0\n",
      " 0 0 0 0 0 0 0 0 0 0 0 0 0 0 0 0 0 0 0 0 0 0 0 0 0 0 0 0 0 0 0 0 0 0 0 0 0\n",
      " 0 0]\n",
      "This will classify all instances under one label 0\n"
     ]
    }
   ],
   "source": [
    "X = iris.data\n",
    "\n",
    "#high eps and high min_samples\n",
    "dbscan=DBSCAN(algorithm='auto', eps=20, leaf_size=30, metric='euclidean',\n",
    "    metric_params=None, min_samples=50, n_jobs=1, p=None)\n",
    "\n",
    "Y_preds = dbscan.fit(X)\n",
    "print(Y_preds.labels_)\n",
    "print(\"This will classify all instances under one label 0\")"
   ]
  },
  {
   "cell_type": "markdown",
   "metadata": {},
   "source": [
    "7.\n",
    "\n",
    "The two main parameters to adjust are the eps and min_samples. Domain knowledge is required to set appropriate values for these two parameters. \n",
    "\n",
    "high eps and low min_samples will cluster everything together under one which defeats the purpose of clustering. \n",
    "\n",
    "high eps and high min_samples will produce the same effect. \n",
    "\n",
    "low eps and low min_samples will produce as many clusters as the number of samples. \n",
    "\n",
    "low eps and high min_samples will only produce noise with 0 clusters formed.  "
   ]
  },
  {
   "cell_type": "markdown",
   "metadata": {},
   "source": [
    "<div class=\"alert alert-block alert-danger\">\n",
    "\n",
    "__IMPORTANT__ \n",
    "\n",
    "Please complete this Jupyter Notebook and submit it to the Blackboard within __three weeks__ after this lab session. __Change the name of your notebook file__ to include `first and last names` of you and your group mates, e.g. \"`NameSurname_NameSurname.ipynb`\".\n",
    "\n",
    "</div>"
   ]
  },
  {
   "cell_type": "code",
   "execution_count": null,
   "metadata": {},
   "outputs": [],
   "source": []
  }
 ],
 "metadata": {
  "kernelspec": {
   "display_name": "Python 3 (ipykernel)",
   "language": "python",
   "name": "python3"
  },
  "language_info": {
   "codemirror_mode": {
    "name": "ipython",
    "version": 3
   },
   "file_extension": ".py",
   "mimetype": "text/x-python",
   "name": "python",
   "nbconvert_exporter": "python",
   "pygments_lexer": "ipython3",
   "version": "3.7.11"
  }
 },
 "nbformat": 4,
 "nbformat_minor": 2
}
