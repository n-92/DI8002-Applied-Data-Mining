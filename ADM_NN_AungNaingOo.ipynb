{
 "cells": [
  {
   "cell_type": "markdown",
   "metadata": {},
   "source": [
    "<h3><center>Applied Data Mining | Aung Naing Oo | </center></h3>\n",
    "<h1><center>Lab 5 : Artificial Neural Networks</center></h1>\n",
    "<img src=\"neural network picture.png\" width=\"800px\" />\n",
    "\n",
    "Artificial Neural Networks (ANN) are among the most important and widely used machine learning tools available. Researchers and scientists extensively use ANN in various applications such as signal processing, natural language processing, machine vision, autonomous driving, and robotics. In this lab, we first start by looking at TensorFlow Playground. Then we create our neural network using python to do Optical Character Recognition (OCR) using `MNIST dataset`.\n",
    "\n",
    "### Task A\n",
    "`TensorFlow Playground` is an interactive neural network visualization platform. With this tool, you can simulate small neural networks in your browser and change its parameters to see their effect on the results. To do so, open this [link](https://playground.tensorflow.org/) and experiment with the tool for different datasets given for a classification problem.\n",
    "\n",
    "__Questions__: Answer the following questions:\n",
    "1. Describe why a neural network takes time to train?\n",
    "1. Describe what are the advantages of the Perceptron Model compared to the McCulloch-Pitts Model?\n",
    "1. How do you evaluate your neural network model?\n",
    "1. Describe why the Resilient backpropagation(RPROP) algorithm convergences faster than algorithms with a fixed learning rate?"
   ]
  },
  {
   "cell_type": "markdown",
   "metadata": {},
   "source": [
    "1. A neural network requires several iterations to reach to a set of weights in the network that produces the desired output for the given inputs. Hence, it takes a long time to train the network for the optimal weights. "
   ]
  },
  {
   "cell_type": "markdown",
   "metadata": {},
   "source": [
    "2. McCulloch-Pitts Model can only handle 0/1 input while Perceptron Model can handle real number input.\n",
    "Also the model does not weigh the inputs making it less flexible while perceptron model can accept varying weights tailored to each input"
   ]
  },
  {
   "cell_type": "markdown",
   "metadata": {},
   "source": [
    "3. Once the neural network is trained on the Training dataset (typically 50% of training data), the network is then validated with the Validation dataset (typically 25% of training data). This is when the hyperparameter tuning happens. Once that is done, the remaining 25% Test dataset is used to evaluate the model. At this state, no further hyperparameter tuning is done. "
   ]
  },
  {
   "cell_type": "markdown",
   "metadata": {},
   "source": [
    "4. Because there is no need to tune the learning rate in RPROP unlike in gradient descent algorithm. "
   ]
  },
  {
   "cell_type": "markdown",
   "metadata": {},
   "source": [
    "### Task B\n",
    "\n",
    "In this task, we will use a random subset of the MNIST dataset. The MNIST database is a large database of images from handwritten digits that is commonly used for training various image processing systems. The database is also widely used for training optical character recognition models. We will use the `scikit-learn` library in python."
   ]
  },
  {
   "cell_type": "code",
   "execution_count": 1,
   "metadata": {
    "scrolled": true
   },
   "outputs": [
    {
     "data": {
      "text/html": [
       "<div>\n",
       "<style scoped>\n",
       "    .dataframe tbody tr th:only-of-type {\n",
       "        vertical-align: middle;\n",
       "    }\n",
       "\n",
       "    .dataframe tbody tr th {\n",
       "        vertical-align: top;\n",
       "    }\n",
       "\n",
       "    .dataframe thead th {\n",
       "        text-align: right;\n",
       "    }\n",
       "</style>\n",
       "<table border=\"1\" class=\"dataframe\">\n",
       "  <thead>\n",
       "    <tr style=\"text-align: right;\">\n",
       "      <th></th>\n",
       "      <th>pixel0</th>\n",
       "      <th>pixel1</th>\n",
       "      <th>pixel2</th>\n",
       "      <th>pixel3</th>\n",
       "      <th>pixel4</th>\n",
       "      <th>pixel5</th>\n",
       "      <th>pixel6</th>\n",
       "      <th>pixel7</th>\n",
       "      <th>pixel8</th>\n",
       "      <th>pixel9</th>\n",
       "      <th>...</th>\n",
       "      <th>pixel776</th>\n",
       "      <th>pixel777</th>\n",
       "      <th>pixel778</th>\n",
       "      <th>pixel779</th>\n",
       "      <th>pixel780</th>\n",
       "      <th>pixel781</th>\n",
       "      <th>pixel782</th>\n",
       "      <th>pixel783</th>\n",
       "      <th>y</th>\n",
       "      <th>label</th>\n",
       "    </tr>\n",
       "  </thead>\n",
       "  <tbody>\n",
       "    <tr>\n",
       "      <th>29800</th>\n",
       "      <td>0.0</td>\n",
       "      <td>0.0</td>\n",
       "      <td>0.0</td>\n",
       "      <td>0.0</td>\n",
       "      <td>0.0</td>\n",
       "      <td>0.0</td>\n",
       "      <td>0.0</td>\n",
       "      <td>0.0</td>\n",
       "      <td>0.0</td>\n",
       "      <td>0.0</td>\n",
       "      <td>...</td>\n",
       "      <td>0.0</td>\n",
       "      <td>0.0</td>\n",
       "      <td>0.0</td>\n",
       "      <td>0.0</td>\n",
       "      <td>0.0</td>\n",
       "      <td>0.0</td>\n",
       "      <td>0.0</td>\n",
       "      <td>0.0</td>\n",
       "      <td>4.0</td>\n",
       "      <td>4.0</td>\n",
       "    </tr>\n",
       "    <tr>\n",
       "      <th>39953</th>\n",
       "      <td>0.0</td>\n",
       "      <td>0.0</td>\n",
       "      <td>0.0</td>\n",
       "      <td>0.0</td>\n",
       "      <td>0.0</td>\n",
       "      <td>0.0</td>\n",
       "      <td>0.0</td>\n",
       "      <td>0.0</td>\n",
       "      <td>0.0</td>\n",
       "      <td>0.0</td>\n",
       "      <td>...</td>\n",
       "      <td>0.0</td>\n",
       "      <td>0.0</td>\n",
       "      <td>0.0</td>\n",
       "      <td>0.0</td>\n",
       "      <td>0.0</td>\n",
       "      <td>0.0</td>\n",
       "      <td>0.0</td>\n",
       "      <td>0.0</td>\n",
       "      <td>6.0</td>\n",
       "      <td>6.0</td>\n",
       "    </tr>\n",
       "    <tr>\n",
       "      <th>50647</th>\n",
       "      <td>0.0</td>\n",
       "      <td>0.0</td>\n",
       "      <td>0.0</td>\n",
       "      <td>0.0</td>\n",
       "      <td>0.0</td>\n",
       "      <td>0.0</td>\n",
       "      <td>0.0</td>\n",
       "      <td>0.0</td>\n",
       "      <td>0.0</td>\n",
       "      <td>0.0</td>\n",
       "      <td>...</td>\n",
       "      <td>0.0</td>\n",
       "      <td>0.0</td>\n",
       "      <td>0.0</td>\n",
       "      <td>0.0</td>\n",
       "      <td>0.0</td>\n",
       "      <td>0.0</td>\n",
       "      <td>0.0</td>\n",
       "      <td>0.0</td>\n",
       "      <td>8.0</td>\n",
       "      <td>8.0</td>\n",
       "    </tr>\n",
       "    <tr>\n",
       "      <th>27973</th>\n",
       "      <td>0.0</td>\n",
       "      <td>0.0</td>\n",
       "      <td>0.0</td>\n",
       "      <td>0.0</td>\n",
       "      <td>0.0</td>\n",
       "      <td>0.0</td>\n",
       "      <td>0.0</td>\n",
       "      <td>0.0</td>\n",
       "      <td>0.0</td>\n",
       "      <td>0.0</td>\n",
       "      <td>...</td>\n",
       "      <td>0.0</td>\n",
       "      <td>0.0</td>\n",
       "      <td>0.0</td>\n",
       "      <td>0.0</td>\n",
       "      <td>0.0</td>\n",
       "      <td>0.0</td>\n",
       "      <td>0.0</td>\n",
       "      <td>0.0</td>\n",
       "      <td>4.0</td>\n",
       "      <td>4.0</td>\n",
       "    </tr>\n",
       "    <tr>\n",
       "      <th>12719</th>\n",
       "      <td>0.0</td>\n",
       "      <td>0.0</td>\n",
       "      <td>0.0</td>\n",
       "      <td>0.0</td>\n",
       "      <td>0.0</td>\n",
       "      <td>0.0</td>\n",
       "      <td>0.0</td>\n",
       "      <td>0.0</td>\n",
       "      <td>0.0</td>\n",
       "      <td>0.0</td>\n",
       "      <td>...</td>\n",
       "      <td>0.0</td>\n",
       "      <td>0.0</td>\n",
       "      <td>0.0</td>\n",
       "      <td>0.0</td>\n",
       "      <td>0.0</td>\n",
       "      <td>0.0</td>\n",
       "      <td>0.0</td>\n",
       "      <td>0.0</td>\n",
       "      <td>2.0</td>\n",
       "      <td>2.0</td>\n",
       "    </tr>\n",
       "  </tbody>\n",
       "</table>\n",
       "<p>5 rows × 786 columns</p>\n",
       "</div>"
      ],
      "text/plain": [
       "       pixel0  pixel1  pixel2  pixel3  pixel4  pixel5  pixel6  pixel7  pixel8  \\\n",
       "29800     0.0     0.0     0.0     0.0     0.0     0.0     0.0     0.0     0.0   \n",
       "39953     0.0     0.0     0.0     0.0     0.0     0.0     0.0     0.0     0.0   \n",
       "50647     0.0     0.0     0.0     0.0     0.0     0.0     0.0     0.0     0.0   \n",
       "27973     0.0     0.0     0.0     0.0     0.0     0.0     0.0     0.0     0.0   \n",
       "12719     0.0     0.0     0.0     0.0     0.0     0.0     0.0     0.0     0.0   \n",
       "\n",
       "       pixel9  ...  pixel776  pixel777  pixel778  pixel779  pixel780  \\\n",
       "29800     0.0  ...       0.0       0.0       0.0       0.0       0.0   \n",
       "39953     0.0  ...       0.0       0.0       0.0       0.0       0.0   \n",
       "50647     0.0  ...       0.0       0.0       0.0       0.0       0.0   \n",
       "27973     0.0  ...       0.0       0.0       0.0       0.0       0.0   \n",
       "12719     0.0  ...       0.0       0.0       0.0       0.0       0.0   \n",
       "\n",
       "       pixel781  pixel782  pixel783    y  label  \n",
       "29800       0.0       0.0       0.0  4.0    4.0  \n",
       "39953       0.0       0.0       0.0  6.0    6.0  \n",
       "50647       0.0       0.0       0.0  8.0    8.0  \n",
       "27973       0.0       0.0       0.0  4.0    4.0  \n",
       "12719       0.0       0.0       0.0  2.0    2.0  \n",
       "\n",
       "[5 rows x 786 columns]"
      ]
     },
     "execution_count": 1,
     "metadata": {},
     "output_type": "execute_result"
    }
   ],
   "source": [
    "# Lets start by reading the data.\n",
    "\n",
    "import pandas as pd\n",
    "import matplotlib.pyplot as plt\n",
    "\n",
    "mnist = pd.read_csv('lab2_data/MNIST_data_subset.csv', index_col = 0)\n",
    "mnist.head()"
   ]
  },
  {
   "cell_type": "code",
   "execution_count": 2,
   "metadata": {},
   "outputs": [],
   "source": [
    "# separate target variable from other variables\n",
    "\n",
    "x = mnist.drop(columns=['y', 'label'])\n",
    "y = mnist[['label']]"
   ]
  },
  {
   "cell_type": "markdown",
   "metadata": {},
   "source": [
    "You can see samples of the images in the dataset by running the code below:"
   ]
  },
  {
   "cell_type": "code",
   "execution_count": 3,
   "metadata": {},
   "outputs": [
    {
     "data": {
      "text/plain": [
       "<Figure size 432x288 with 0 Axes>"
      ]
     },
     "metadata": {},
     "output_type": "display_data"
    },
    {
     "data": {
      "image/png": "[encoded data removed]",
      "text/plain": [
       "<Figure size 1152x504 with 15 Axes>"
      ]
     },
     "metadata": {
      "needs_background": "light"
     },
     "output_type": "display_data"
    }
   ],
   "source": [
    "plt.figure()\n",
    "feat_cols = x.columns\n",
    "plt.gray()\n",
    "fig = plt.figure( figsize=(16,7) )\n",
    "for i in range(0,15):\n",
    "    ax = fig.add_subplot(3,5,i+1, title=\"Digit: {}\".format(str(y.loc[y.index[i],'label'])) )\n",
    "    ax.axis('off') \n",
    "    ax.matshow(x.loc[x.index[i],feat_cols].values.reshape((28,28)).astype(float))\n",
    "plt.show()"
   ]
  },
  {
   "cell_type": "code",
   "execution_count": 12,
   "metadata": {},
   "outputs": [],
   "source": [
    "# split data to train and test\n",
    "\n",
    "from sklearn.model_selection import train_test_split\n",
    "X_train, X_test, y_train, y_test = train_test_split(x, y, test_size=0.2, random_state=22)"
   ]
  },
  {
   "cell_type": "code",
   "execution_count": 16,
   "metadata": {},
   "outputs": [
    {
     "name": "stderr",
     "output_type": "stream",
     "text": [
      "C:\\Users\\Naing\\anaconda3\\envs\\ADM_course\\lib\\site-packages\\sklearn\\neural_network\\_multilayer_perceptron.py:1109: DataConversionWarning: A column-vector y was passed when a 1d array was expected. Please change the shape of y to (n_samples, ), for example using ravel().\n",
      "  y = column_or_1d(y, warn=True)\n"
     ]
    }
   ],
   "source": [
    "# create a neural network architecture and train it\n",
    "\n",
    "from sklearn.neural_network import MLPClassifier\n",
    "clf = MLPClassifier(solver='adam',\n",
    "                    random_state=22,\n",
    "                    \n",
    "                    # tune the following hyperparameters:\n",
    "                    hidden_layer_sizes=(150,150,50),  \n",
    "                    max_iter=100,\n",
    "                    learning_rate_init=0.03 # you can find a list of values of learning_rate in TensorFlow Playground (refer to Task A)\n",
    "                    # end of hyperparameters\n",
    "                   )\n",
    "_ = clf.fit(X_train, y_train)"
   ]
  },
  {
   "cell_type": "code",
   "execution_count": 17,
   "metadata": {},
   "outputs": [],
   "source": [
    "# predict target variable for the test data.\n",
    "\n",
    "y_pred = clf.predict(X_test)"
   ]
  },
  {
   "cell_type": "code",
   "execution_count": 18,
   "metadata": {},
   "outputs": [
    {
     "name": "stdout",
     "output_type": "stream",
     "text": [
      "confusion_matrix:\n",
      "[[178   1   2   4   0   4   2   1   0   0]\n",
      " [  0 174   3   0   0   3   0   2   2   1]\n",
      " [  2   0 179   6   0   1   3   2   2   1]\n",
      " [  0   0   3 175   0   9   0   2   1   0]\n",
      " [  1   0   8   0 150   2   4   2   1  10]\n",
      " [  1   0   1   3   1 152   1   0   1   1]\n",
      " [  2   0   1   0   0   1 175   0   0   0]\n",
      " [  0   0   9   2   0   1   1 205   0   2]\n",
      " [  0   1   3   5   0   7   7   0 155   1]\n",
      " [  0   1   0   4   5   0   0   7   6 152]]\n",
      "\n",
      "classification_report:\n",
      "              precision    recall  f1-score   support\n",
      "\n",
      "         0.0       0.97      0.93      0.95       192\n",
      "         1.0       0.98      0.94      0.96       185\n",
      "         2.0       0.86      0.91      0.88       196\n",
      "         3.0       0.88      0.92      0.90       190\n",
      "         4.0       0.96      0.84      0.90       178\n",
      "         5.0       0.84      0.94      0.89       161\n",
      "         6.0       0.91      0.98      0.94       179\n",
      "         7.0       0.93      0.93      0.93       220\n",
      "         8.0       0.92      0.87      0.89       179\n",
      "         9.0       0.90      0.87      0.89       175\n",
      "\n",
      "    accuracy                           0.91      1855\n",
      "   macro avg       0.92      0.91      0.91      1855\n",
      "weighted avg       0.92      0.91      0.91      1855\n",
      "\n"
     ]
    }
   ],
   "source": [
    "# Check if we have done a good classification or not?\n",
    "\n",
    "from sklearn.metrics import classification_report, confusion_matrix\n",
    "print('confusion_matrix:')\n",
    "print(confusion_matrix(y_test, y_pred))\n",
    "print('\\nclassification_report:')\n",
    "print(classification_report(y_test, y_pred))"
   ]
  },
  {
   "cell_type": "markdown",
   "metadata": {},
   "source": [
    "__Note:__ If you don't know how to interpret classification report and confusion_matrix, please read the following links: [link1](https://datascience.stackexchange.com/questions/64441/how-to-interpret-classification-report-of-scikit-learn), [link2](https://stackoverflow.com/questions/30746460/how-to-interpret-scikits-learn-confusion-matrix-and-classification-report)"
   ]
  },
  {
   "cell_type": "markdown",
   "metadata": {},
   "source": [
    "Try to change different neural network parameters (`hyperparameter tuning`) e.g., hidden layer sizes, the number of hidden layers, max_iter, learning rate, and study how they affect the classification results.\n",
    "\n",
    "__Note:__ Do not change the random_state parameter. You can find a list of all available parameters and a short description of them [here](https://scikit-learn.org/stable/modules/generated/sklearn.neural_network.MLPClassifier.html).\n",
    "\n",
    "__Questions__: Answer the following questions based on your experiments:\n",
    "1. How many classes are there? \n",
    "1. How many input variables we have in our neural network?\n",
    "1. Describe why we split data into train and test?\n",
    "1. Define the learning rate and how it affects the learning process and the time taken to train a model?\n",
    "1. What is the purpose of applying a multi-layer perceptron (MLP) to the data? What other methods do you think would be useful here?\n",
    "1. Overall, which parameters did you change to get the best results, and how did you evaluate the performance? Report your best performance and parameters. (__Note:__ your best performance should be at least over `0.90 accuracy`)\n",
    "1. What was the initial accuracy of the model, and how much your parameter tuning improved it?\n",
    "1. <font color='blue'>Optional</font>: Try to simulate overfitting and underfitting and analyze why your scenarios are causing them.\n",
    "1. <font color='blue'>Optional</font>: Can you compare the results of MLP with any other classification method(s) that you learned in this course? What conclusions can you draw here?"
   ]
  },
  {
   "cell_type": "markdown",
   "metadata": {},
   "source": [
    "1. 10 classes. [0 to 9]"
   ]
  },
  {
   "cell_type": "markdown",
   "metadata": {},
   "source": [
    "2. 784 input variables"
   ]
  },
  {
   "cell_type": "markdown",
   "metadata": {},
   "source": [
    "3. This is to prevent overfitting. The test data would not be used in hyperparameter tuning. "
   ]
  },
  {
   "cell_type": "markdown",
   "metadata": {},
   "source": [
    "4. The learning rate represents the speed at which the model learns to converge in gradient descent such that the error rate is minimum between the predicted output and the desired output. A small learning rate requires a long time to train whereas a large learning rate can converge quicker but produces a suboptimal solution. "
   ]
  },
  {
   "cell_type": "markdown",
   "metadata": {},
   "source": [
    "5. A multi-layer perception model is required so that we avoid the underfitting problem with a less complex model.\n",
    "\n",
    "Since the problem is on classification, SVM with rbf kernel can be used as well as decision tree based classification."
   ]
  },
  {
   "cell_type": "markdown",
   "metadata": {},
   "source": [
    "6.hidden_layer_sizes=(150,150,50). # 3 hidden layers with 150 nodes for the first 2 layers and 50 nodes for the 3rd layer \n",
    "\n",
    "learning_rate_init=0.03 # a small learning rate of 0.03"
   ]
  },
  {
   "cell_type": "markdown",
   "metadata": {},
   "source": [
    "7. \n",
    "The initial weight average f1 score was 0.03 (3% accuracy) which was very bad. \n",
    "After the tuning as mentioned in point 6, the f1 score improved to 0.91 which is 91% accuracy."
   ]
  },
  {
   "cell_type": "markdown",
   "metadata": {},
   "source": [
    "<div class=\"alert alert-block alert-danger\">\n",
    "\n",
    "__IMPORTANT__ \n",
    "\n",
    "Please complete this Jupyter Notebook file and upload it to the __Blackboard__. \n",
    "\n",
    "__Change the name of your notebook file__ as follows: \"`ADM_NN_FirstNameSurname_FirstNameSurname.ipynb`\".\n",
    "\n",
    "    \n",
    "</div>"
   ]
  },
  {
   "cell_type": "code",
   "execution_count": null,
   "metadata": {},
   "outputs": [],
   "source": []
  }
 ],
 "metadata": {
  "kernelspec": {
   "display_name": "Python 3 (ipykernel)",
   "language": "python",
   "name": "python3"
  },
  "language_info": {
   "codemirror_mode": {
    "name": "ipython",
    "version": 3
   },
   "file_extension": ".py",
   "mimetype": "text/x-python",
   "name": "python",
   "nbconvert_exporter": "python",
   "pygments_lexer": "ipython3",
   "version": "3.7.11"
  }
 },
 "nbformat": 4,
 "nbformat_minor": 2
}
