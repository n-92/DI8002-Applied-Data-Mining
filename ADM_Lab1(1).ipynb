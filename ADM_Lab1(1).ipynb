{
 "cells": [
  {
   "cell_type": "markdown",
   "metadata": {},
   "source": [
    "<h3><center>Applied Data Mining (2021-22)</center></h3>\n",
    "<h1><center>Lab 1: Introduction to data mining with Python- Instalation</center></h1>\n",
    "\n",
    "\n",
    "The objective of the first lab is to introduce a couple of machine learning tools and libraries that are going to be used during this course. We will use **Python** as our programming language, **Anaconda** as our virtual emvironment and package manager, and finally **Jupyter notebook** as our development environment. Note that this lab is not intended to teach python programming. So, it is recommended to have some python programming background.\n",
    "\n",
    "Please follow the following steps to prepare the development environment:\n",
    "- Download Anaconda from https://www.anaconda.com/distribution/, and install it on your machine.\n",
    "- Create an environment with Python 3.7 and use `ADM_course` as the environment name. You can find information about creating and managing anaconda environments using navigator interface from https://docs.anaconda.com/anaconda/navigator/tutorials/manage-environments/#creating-a-new-environment. You can also do it through shell commands https://docs.conda.io/projects/conda/en/latest/user-guide/tasks/manage-environments.html. Here is a list of useful commands:\n",
    "    - `conda create -n ADM_course python=3.7`\n",
    "    - `conda env list`\n",
    "    - `source activate ADM_course`\n",
    "- Use Anaconda navigator to install Jupyter. To do so, first go to the Home tab, then select ADM&DS_course environment. Finally, from the list of applications, find Jupyter Notebook and install it. \n",
    "- Now you should be able to launch Jupyter. This will launch a new browser window (or a new tab) showing the Notebook Dashboard, a sort of control panel that allows (among other things) to select which notebook to open. You can also launch Jupyter using shell command. To do so, first activate `ADM_course` environment, then run the following command: `jupyter notebook`\n",
    "- To run our first program, please open ADM&DS_Lab1.ipynb file using Jupyter. You can find the rest of the instructions on the file.\n",
    "- Picture below shows Notebook user interface:\n",
    "<img src=\"files/jupyter screenshot 1.png\" alt=\"Drawing\" style=\"width: 500px;\">\n",
    "- Play with the interface and try to figure out its functionalities. You can find lots of useful information about Notebook from the following [link](https://buildmedia.readthedocs.org/media/pdf/jupyter-notebook/latest/jupyter-notebook.pdf)."
   ]
  },
  {
   "cell_type": "markdown",
   "metadata": {},
   "source": [
    "### First program in Jupyter\n",
    "- Change the Jupyter Notebook folder to whatever folder you have your codes on\n",
    "- Open `ADM_Lab1.ipynb` and run the following line of code:"
   ]
  },
  {
   "cell_type": "code",
   "execution_count": 1,
   "metadata": {},
   "outputs": [
    {
     "name": "stdout",
     "output_type": "stream",
     "text": [
      "Hi, World!\n"
     ]
    }
   ],
   "source": [
    "print(\"Hi, World!\")"
   ]
  },
  {
   "cell_type": "markdown",
   "metadata": {},
   "source": [
    "### Installing python libraries using jupyter\n",
    "In this section you will learn how to install a package using jupyter. We start by installing `Numpy`. Numpy is the most basic and a powerful package for scientific computing and data manipulation in python. There are two ways to install a python package.\n",
    "#### a) conda package\n",
    "Use the following piece of code to install desired python packages. Make sure to change channel (in this case `anaconda`) and name of the package (in this case `numpy`) based on what you want to install."
   ]
  },
  {
   "cell_type": "code",
   "execution_count": 2,
   "metadata": {},
   "outputs": [
    {
     "name": "stdout",
     "output_type": "stream",
     "text": [
      "Collecting package metadata (current_repodata.json): ...working... done\n",
      "Solving environment: ...working... done\n",
      "\n",
      "## Package Plan ##\n",
      "\n",
      "  environment location: C:\\Users\\Naing\\anaconda3\\envs\\ADM_course\n",
      "\n",
      "  added / updated specs:\n",
      "    - numpy\n",
      "\n",
      "\n",
      "The following packages will be downloaded:\n",
      "\n",
      "    package                    |            build\n",
      "    ---------------------------|-----------------\n",
      "    blas-1.0                   |              mkl           6 KB  anaconda\n",
      "    ca-certificates-2020.10.14 |                0         159 KB  anaconda\n",
      "    certifi-2020.6.20          |           py37_0         160 KB  anaconda\n",
      "    intel-openmp-2020.2        |              254         2.0 MB  anaconda\n",
      "    mkl-2019.4                 |              245       157.5 MB  anaconda\n",
      "    mkl-service-2.3.0          |   py37hb782905_0         200 KB  anaconda\n",
      "    mkl_fft-1.2.0              |   py37h45dec08_0         135 KB  anaconda\n",
      "    mkl_random-1.0.4           |   py37h343c172_0         287 KB"
     ]
    },
    {
     "name": "stderr",
     "output_type": "stream",
     "text": [
      "\n",
      "\n",
      "==> WARNING: A newer version of conda exists. <==\n",
      "  current version: 4.8.3\n",
      "  latest version: 4.10.3\n",
      "\n",
      "Please update conda by running\n",
      "\n",
      "    $ conda update -n base -c defaults conda\n",
      "\n",
      "\n"
     ]
    },
    {
     "name": "stdout",
     "output_type": "stream",
     "text": [
      "\n",
      "    numpy-1.19.1               |   py37h5510c5b_0          21 KB  anaconda\n",
      "    numpy-base-1.19.1          |   py37ha3acd2a_0         4.9 MB  anaconda\n",
      "    ------------------------------------------------------------\n",
      "                                           Total:       165.3 MB\n",
      "\n",
      "The following NEW packages will be INSTALLED:\n",
      "\n",
      "  blas               anaconda/win-64::blas-1.0-mkl\n",
      "  intel-openmp       anaconda/win-64::intel-openmp-2020.2-254\n",
      "  mkl                anaconda/win-64::mkl-2019.4-245\n",
      "  mkl-service        anaconda/win-64::mkl-service-2.3.0-py37hb782905_0\n",
      "  mkl_fft            anaconda/win-64::mkl_fft-1.2.0-py37h45dec08_0\n",
      "  mkl_random         pkgs/r/win-64::mkl_random-1.0.4-py37h343c172_0\n",
      "  numpy              anaconda/win-64::numpy-1.19.1-py37h5510c5b_0\n",
      "  numpy-base         anaconda/win-64::numpy-base-1.19.1-py37ha3acd2a_0\n",
      "\n",
      "The following packages will be SUPERSEDED by a higher-priority channel:\n",
      "\n",
      "  ca-certificates    pkgs/main::ca-certificates-2021.10.26~ --> anaconda::ca-certificates-2020.10.14-0\n",
      "  certifi            pkgs/main::certifi-2021.10.8-py37haa9~ --> anaconda::certifi-2020.6.20-py37_0\n",
      "\n",
      "\n",
      "\n",
      "Downloading and Extracting Packages\n",
      "\n",
      "ca-certificates-2020 | 159 KB    |            |   0% \n",
      "ca-certificates-2020 | 159 KB    | #          |  10% \n",
      "ca-certificates-2020 | 159 KB    | ########## | 100% \n",
      "\n",
      "numpy-base-1.19.1    | 4.9 MB    |            |   0% \n",
      "numpy-base-1.19.1    | 4.9 MB    | 4          |   5% \n",
      "numpy-base-1.19.1    | 4.9 MB    | ##2        |  22% \n",
      "numpy-base-1.19.1    | 4.9 MB    | #####6     |  57% \n",
      "numpy-base-1.19.1    | 4.9 MB    | #######4   |  74% \n",
      "numpy-base-1.19.1    | 4.9 MB    | ########## | 100% \n",
      "\n",
      "intel-openmp-2020.2  | 2.0 MB    |            |   0% \n",
      "intel-openmp-2020.2  | 2.0 MB    | ##5        |  25% \n",
      "intel-openmp-2020.2  | 2.0 MB    | #######2   |  73% \n",
      "intel-openmp-2020.2  | 2.0 MB    | ########## | 100% \n",
      "\n",
      "mkl-service-2.3.0    | 200 KB    |            |   0% \n",
      "mkl-service-2.3.0    | 200 KB    | ########## | 100% \n",
      "\n",
      "blas-1.0             | 6 KB      |            |   0% \n",
      "blas-1.0             | 6 KB      | ########## | 100% \n",
      "\n",
      "mkl_random-1.0.4     | 287 KB    |            |   0% \n",
      "mkl_random-1.0.4     | 287 KB    | ####4      |  45% \n",
      "mkl_random-1.0.4     | 287 KB    | ########## | 100% \n",
      "\n",
      "certifi-2020.6.20    | 160 KB    |            |   0% \n",
      "certifi-2020.6.20    | 160 KB    | ########## | 100% \n",
      "\n",
      "mkl_fft-1.2.0        | 135 KB    |            |   0% \n",
      "mkl_fft-1.2.0        | 135 KB    | ########## | 100% \n",
      "\n",
      "mkl-2019.4           | 157.5 MB  |            |   0% \n",
      "mkl-2019.4           | 157.5 MB  |            |   0% \n",
      "mkl-2019.4           | 157.5 MB  |            |   1% \n",
      "mkl-2019.4           | 157.5 MB  | 1          |   2% \n",
      "mkl-2019.4           | 157.5 MB  | 2          |   2% \n",
      "mkl-2019.4           | 157.5 MB  | 3          |   3% \n",
      "mkl-2019.4           | 157.5 MB  | 3          |   4% \n",
      "mkl-2019.4           | 157.5 MB  | 4          |   4% \n",
      "mkl-2019.4           | 157.5 MB  | 4          |   5% \n",
      "mkl-2019.4           | 157.5 MB  | 5          |   6% \n",
      "mkl-2019.4           | 157.5 MB  | 6          |   6% \n",
      "mkl-2019.4           | 157.5 MB  | 6          |   7% \n",
      "mkl-2019.4           | 157.5 MB  | 7          |   8% \n",
      "mkl-2019.4           | 157.5 MB  | 8          |   9% \n",
      "mkl-2019.4           | 157.5 MB  | 9          |  10% \n",
      "mkl-2019.4           | 157.5 MB  | #          |  10% \n",
      "mkl-2019.4           | 157.5 MB  | #          |  11% \n",
      "mkl-2019.4           | 157.5 MB  | #1         |  12% \n",
      "mkl-2019.4           | 157.5 MB  | #2         |  13% \n",
      "mkl-2019.4           | 157.5 MB  | #3         |  13% \n",
      "mkl-2019.4           | 157.5 MB  | #4         |  14% \n",
      "mkl-2019.4           | 157.5 MB  | #5         |  15% \n",
      "mkl-2019.4           | 157.5 MB  | #5         |  16% \n",
      "mkl-2019.4           | 157.5 MB  | #6         |  17% \n",
      "mkl-2019.4           | 157.5 MB  | #7         |  18% \n",
      "mkl-2019.4           | 157.5 MB  | #8         |  18% \n",
      "mkl-2019.4           | 157.5 MB  | #9         |  19% \n",
      "mkl-2019.4           | 157.5 MB  | ##         |  20% \n",
      "mkl-2019.4           | 157.5 MB  | ##         |  21% \n",
      "mkl-2019.4           | 157.5 MB  | ##1        |  22% \n",
      "mkl-2019.4           | 157.5 MB  | ##2        |  23% \n",
      "mkl-2019.4           | 157.5 MB  | ##3        |  23% \n",
      "mkl-2019.4           | 157.5 MB  | ##4        |  24% \n",
      "mkl-2019.4           | 157.5 MB  | ##4        |  25% \n",
      "mkl-2019.4           | 157.5 MB  | ##5        |  25% \n",
      "mkl-2019.4           | 157.5 MB  | ##6        |  26% \n",
      "mkl-2019.4           | 157.5 MB  | ##7        |  27% \n",
      "mkl-2019.4           | 157.5 MB  | ##7        |  28% \n",
      "mkl-2019.4           | 157.5 MB  | ##8        |  28% \n",
      "mkl-2019.4           | 157.5 MB  | ##9        |  29% \n",
      "mkl-2019.4           | 157.5 MB  | ##9        |  30% \n",
      "mkl-2019.4           | 157.5 MB  | ###        |  31% \n",
      "mkl-2019.4           | 157.5 MB  | ###1       |  31% \n",
      "mkl-2019.4           | 157.5 MB  | ###1       |  32% \n",
      "mkl-2019.4           | 157.5 MB  | ###2       |  33% \n",
      "mkl-2019.4           | 157.5 MB  | ###3       |  33% \n",
      "mkl-2019.4           | 157.5 MB  | ###3       |  34% \n",
      "mkl-2019.4           | 157.5 MB  | ###4       |  35% \n",
      "mkl-2019.4           | 157.5 MB  | ###5       |  36% \n",
      "mkl-2019.4           | 157.5 MB  | ###6       |  36% \n",
      "mkl-2019.4           | 157.5 MB  | ###7       |  37% \n",
      "mkl-2019.4           | 157.5 MB  | ###8       |  38% \n",
      "mkl-2019.4           | 157.5 MB  | ###8       |  39% \n",
      "mkl-2019.4           | 157.5 MB  | ###9       |  40% \n",
      "mkl-2019.4           | 157.5 MB  | ####       |  40% \n",
      "mkl-2019.4           | 157.5 MB  | ####       |  41% \n",
      "mkl-2019.4           | 157.5 MB  | ####1      |  42% \n",
      "mkl-2019.4           | 157.5 MB  | ####2      |  43% \n",
      "mkl-2019.4           | 157.5 MB  | ####3      |  43% \n",
      "mkl-2019.4           | 157.5 MB  | ####4      |  44% \n",
      "mkl-2019.4           | 157.5 MB  | ####4      |  45% \n",
      "mkl-2019.4           | 157.5 MB  | ####5      |  45% \n",
      "mkl-2019.4           | 157.5 MB  | ####6      |  46% \n",
      "mkl-2019.4           | 157.5 MB  | ####6      |  47% \n",
      "mkl-2019.4           | 157.5 MB  | ####7      |  48% \n",
      "mkl-2019.4           | 157.5 MB  | ####8      |  49% \n",
      "mkl-2019.4           | 157.5 MB  | ####9      |  50% \n",
      "mkl-2019.4           | 157.5 MB  | #####      |  50% \n",
      "mkl-2019.4           | 157.5 MB  | #####1     |  51% \n",
      "mkl-2019.4           | 157.5 MB  | #####1     |  52% \n",
      "mkl-2019.4           | 157.5 MB  | #####2     |  53% \n",
      "mkl-2019.4           | 157.5 MB  | #####3     |  53% \n",
      "mkl-2019.4           | 157.5 MB  | #####4     |  54% \n",
      "mkl-2019.4           | 157.5 MB  | #####4     |  55% \n",
      "mkl-2019.4           | 157.5 MB  | #####5     |  56% \n",
      "mkl-2019.4           | 157.5 MB  | #####6     |  56% \n",
      "mkl-2019.4           | 157.5 MB  | #####7     |  57% \n",
      "mkl-2019.4           | 157.5 MB  | #####8     |  58% \n",
      "mkl-2019.4           | 157.5 MB  | #####8     |  59% \n",
      "mkl-2019.4           | 157.5 MB  | #####9     |  60% \n",
      "mkl-2019.4           | 157.5 MB  | ######     |  60% \n",
      "mkl-2019.4           | 157.5 MB  | ######1    |  61% \n",
      "mkl-2019.4           | 157.5 MB  | ######2    |  62% \n",
      "mkl-2019.4           | 157.5 MB  | ######2    |  63% \n",
      "mkl-2019.4           | 157.5 MB  | ######3    |  64% \n",
      "mkl-2019.4           | 157.5 MB  | ######4    |  65% \n",
      "mkl-2019.4           | 157.5 MB  | ######5    |  65% \n",
      "mkl-2019.4           | 157.5 MB  | ######6    |  66% \n",
      "mkl-2019.4           | 157.5 MB  | ######7    |  67% \n",
      "mkl-2019.4           | 157.5 MB  | ######7    |  68% \n",
      "mkl-2019.4           | 157.5 MB  | ######8    |  68% \n",
      "mkl-2019.4           | 157.5 MB  | ######9    |  69% \n",
      "mkl-2019.4           | 157.5 MB  | ######9    |  70% \n",
      "mkl-2019.4           | 157.5 MB  | #######    |  71% \n",
      "mkl-2019.4           | 157.5 MB  | #######1   |  71% \n",
      "mkl-2019.4           | 157.5 MB  | #######2   |  72% \n",
      "mkl-2019.4           | 157.5 MB  | #######3   |  73% \n",
      "mkl-2019.4           | 157.5 MB  | #######3   |  74% \n",
      "mkl-2019.4           | 157.5 MB  | #######4   |  74% \n",
      "mkl-2019.4           | 157.5 MB  | #######5   |  76% \n",
      "mkl-2019.4           | 157.5 MB  | #######6   |  76% \n",
      "mkl-2019.4           | 157.5 MB  | #######7   |  77% \n",
      "mkl-2019.4           | 157.5 MB  | #######7   |  78% \n",
      "mkl-2019.4           | 157.5 MB  | #######8   |  79% \n",
      "mkl-2019.4           | 157.5 MB  | #######9   |  79% \n",
      "mkl-2019.4           | 157.5 MB  | ########   |  80% \n",
      "mkl-2019.4           | 157.5 MB  | ########   |  81% \n",
      "mkl-2019.4           | 157.5 MB  | ########1  |  82% \n",
      "mkl-2019.4           | 157.5 MB  | ########2  |  82% \n",
      "mkl-2019.4           | 157.5 MB  | ########3  |  83% \n",
      "mkl-2019.4           | 157.5 MB  | ########4  |  84% \n",
      "mkl-2019.4           | 157.5 MB  | ########4  |  85% \n",
      "mkl-2019.4           | 157.5 MB  | ########5  |  86% \n",
      "mkl-2019.4           | 157.5 MB  | ########6  |  86% \n",
      "mkl-2019.4           | 157.5 MB  | ########7  |  87% \n",
      "mkl-2019.4           | 157.5 MB  | ########7  |  88% \n",
      "mkl-2019.4           | 157.5 MB  | ########8  |  89% \n",
      "mkl-2019.4           | 157.5 MB  | ########9  |  89% \n",
      "mkl-2019.4           | 157.5 MB  | ########9  |  90% \n",
      "mkl-2019.4           | 157.5 MB  | #########  |  91% \n",
      "mkl-2019.4           | 157.5 MB  | #########1 |  91% \n",
      "mkl-2019.4           | 157.5 MB  | #########1 |  92% \n",
      "mkl-2019.4           | 157.5 MB  | #########2 |  93% \n",
      "mkl-2019.4           | 157.5 MB  | #########3 |  94% \n",
      "mkl-2019.4           | 157.5 MB  | #########4 |  95% \n",
      "mkl-2019.4           | 157.5 MB  | #########5 |  95% \n",
      "mkl-2019.4           | 157.5 MB  | #########6 |  96% \n",
      "mkl-2019.4           | 157.5 MB  | #########7 |  97% \n",
      "mkl-2019.4           | 157.5 MB  | #########7 |  98% \n",
      "mkl-2019.4           | 157.5 MB  | #########8 |  99% \n",
      "mkl-2019.4           | 157.5 MB  | #########9 |  99% \n",
      "mkl-2019.4           | 157.5 MB  | ########## | 100% \n",
      "\n",
      "numpy-1.19.1         | 21 KB     |            |   0% \n",
      "numpy-1.19.1         | 21 KB     | ########## | 100% \n",
      "Preparing transaction: ...working... done\n",
      "Verifying transaction: ...working... done\n",
      "Executing transaction: ...working... done\n"
     ]
    }
   ],
   "source": [
    "# Install a conda package in the current Jupyter kernel\n",
    "import sys\n",
    "!conda install --yes --prefix {sys.prefix} -c anaconda numpy"
   ]
  },
  {
   "cell_type": "markdown",
   "metadata": {},
   "source": [
    "#### b) pip package\n",
    "You can also use pip for installing the packages. However, it is recommended to do it by conda package manger rather than pip. To install a package using pip use the following piece of code."
   ]
  },
  {
   "cell_type": "code",
   "execution_count": 3,
   "metadata": {},
   "outputs": [
    {
     "name": "stdout",
     "output_type": "stream",
     "text": [
      "Requirement already satisfied: numpy in c:\\users\\naing\\anaconda3\\envs\\adm_course\\lib\\site-packages (1.19.1)\n"
     ]
    }
   ],
   "source": [
    "# Install a pip package in the current Jupyter kernel\n",
    "import sys\n",
    "!{sys.executable} -m pip install numpy"
   ]
  },
  {
   "cell_type": "markdown",
   "metadata": {},
   "source": [
    "### Introduction to Numpy\n",
    "If you are going to work on data analysis or machine learning projects, then having a solid understanding of numpy is nearly mandatory. Specially since other packages for data analysis (like pandas) is built on top of numpy and the scikit-learn package which is used to build machine learning applications works heavily with numpy as well.\n",
    "\n",
    "So what does numpy provide?\n",
    "\n",
    "At the core, numpy provides the excellent ndarray objects, short for n-dimensional arrays.\n",
    "\n",
    "In a ‘ndarray’ object, aka ‘array’, you can store multiple items of the same data type. It is the facilities around the array object that makes numpy so convenient for performing math and data manipulations.\n",
    "To understand this better, let’s first see how to create a numpy array."
   ]
  },
  {
   "cell_type": "code",
   "execution_count": 4,
   "metadata": {},
   "outputs": [
    {
     "name": "stdout",
     "output_type": "stream",
     "text": [
      "<class 'numpy.ndarray'>\n"
     ]
    },
    {
     "data": {
      "text/plain": [
       "array([0, 1, 2, 3, 4])"
      ]
     },
     "execution_count": 4,
     "metadata": {},
     "output_type": "execute_result"
    }
   ],
   "source": [
    "# Create a 1d array from a list\n",
    "import numpy as np\n",
    "list1 = [0,1,2,3,4]\n",
    "arr1d = np.array(list1)\n",
    "\n",
    "# Print the array and its type\n",
    "print(type(arr1d))\n",
    "arr1d"
   ]
  },
  {
   "cell_type": "markdown",
   "metadata": {},
   "source": [
    "The key difference between an array and a list is, arrays are designed to handle vectorized operations while a python list is not. That means, if you apply a function it is performed on every item in the array, rather than on the whole array object.\n",
    "So, that’s about 1d array. You can also pass a list of lists to create a matrix like a 2d array."
   ]
  },
  {
   "cell_type": "code",
   "execution_count": 5,
   "metadata": {},
   "outputs": [
    {
     "data": {
      "text/plain": [
       "array([[0, 1, 2],\n",
       "       [3, 4, 5],\n",
       "       [6, 7, 8]])"
      ]
     },
     "execution_count": 5,
     "metadata": {},
     "output_type": "execute_result"
    }
   ],
   "source": [
    "# Create a 2d array from a list of lists\n",
    "list2 = [[0,1,2], [3,4,5], [6,7,8]]\n",
    "arr2d = np.array(list2)\n",
    "arr2d"
   ]
  },
  {
   "cell_type": "markdown",
   "metadata": {},
   "source": [
    "Finally, you can always convert an array back to a python list using tolist()."
   ]
  },
  {
   "cell_type": "code",
   "execution_count": 6,
   "metadata": {},
   "outputs": [
    {
     "data": {
      "text/plain": [
       "[[0, 1, 2], [3, 4, 5], [6, 7, 8]]"
      ]
     },
     "execution_count": 6,
     "metadata": {},
     "output_type": "execute_result"
    }
   ],
   "source": [
    "# Convert an array back to a list\n",
    "arr2d.tolist()"
   ]
  },
  {
   "cell_type": "markdown",
   "metadata": {},
   "source": [
    "### How to inspect the size and shape of a numpy array?\n",
    "Every array has some properties to inspect its structure. Here is a list of questions about arrays and how we can answer them:\n",
    "> <li>If it is a 1D or a 2D array or more. (ndim)</li>\n",
    "> <li>How many items are present in each dimension (shape)</li>\n",
    "> <li>What is its datatype (dtype)</li>\n",
    "> <li>What is the total number of items in it (size)</li>\n",
    "> <li>Samples of first few items in the array (through indexing)</li>"
   ]
  },
  {
   "cell_type": "code",
   "execution_count": 8,
   "metadata": {},
   "outputs": [
    {
     "data": {
      "text/plain": [
       "array([[1., 2., 3., 4.],\n",
       "       [3., 4., 5., 6.],\n",
       "       [5., 6., 7., 8.]])"
      ]
     },
     "execution_count": 8,
     "metadata": {},
     "output_type": "execute_result"
    }
   ],
   "source": [
    "# Create a 2d array with 3 rows and 4 columns\n",
    "list2 = [[1, 2, 3, 4],[3, 4, 5, 6], [5, 6, 7, 8]]\n",
    "arr2 = np.array(list2, dtype='float')\n",
    "arr2"
   ]
  },
  {
   "cell_type": "code",
   "execution_count": 9,
   "metadata": {},
   "outputs": [
    {
     "name": "stdout",
     "output_type": "stream",
     "text": [
      "Shape:  (3, 4)\n",
      "Datatype:  float64\n",
      "Size:  12\n",
      "Num Dimensions:  2\n"
     ]
    }
   ],
   "source": [
    "# shape\n",
    "print('Shape: ', arr2.shape)\n",
    "\n",
    "# dtype\n",
    "print('Datatype: ', arr2.dtype)\n",
    "\n",
    "# size\n",
    "print('Size: ', arr2.size)\n",
    "\n",
    "# ndim\n",
    "print('Num Dimensions: ', arr2.ndim)"
   ]
  },
  {
   "cell_type": "markdown",
   "metadata": {},
   "source": [
    "### How to access specific items from an array?"
   ]
  },
  {
   "cell_type": "code",
   "execution_count": 22,
   "metadata": {
    "scrolled": true
   },
   "outputs": [
    {
     "name": "stdout",
     "output_type": "stream",
     "text": [
      "Extract a specific item by index\n",
      "4.0\n",
      "Extract the first 2 rows and columns\n",
      "[[1. 2.]\n",
      " [3. 4.]]\n",
      "Extract the last row and column\n",
      "5.0\n",
      "[[1. 2. 3. 4.]\n",
      " [3. 4. 5. 6.]\n",
      " [5. 6. 7. 8.]]\n"
     ]
    }
   ],
   "source": [
    "print('Extract a specific item by index')\n",
    "print(arr2[1,1])\n",
    "\n",
    "print('Extract the first 2 rows and columns')\n",
    "print(arr2[:2, :2])\n",
    "\n",
    "print('Extract the last row and column')\n",
    "print(arr2[-2,-2])\n",
    "\n",
    "print(arr2)"
   ]
  },
  {
   "cell_type": "code",
   "execution_count": 21,
   "metadata": {},
   "outputs": [
    {
     "data": {
      "text/plain": [
       "5.0"
      ]
     },
     "execution_count": 21,
     "metadata": {},
     "output_type": "execute_result"
    }
   ],
   "source": [
    "arr2[-1,-4]"
   ]
  },
  {
   "cell_type": "markdown",
   "metadata": {},
   "source": [
    "### How to compute average, min, max, variance on the ndarray?"
   ]
  },
  {
   "cell_type": "code",
   "execution_count": 8,
   "metadata": {},
   "outputs": [
    {
     "name": "stdout",
     "output_type": "stream",
     "text": [
      "Mean value is:  4.5\n",
      "Max value is:  8.0\n",
      "Min value is:  1.0\n",
      "Variance value is:  3.9166666666666665\n"
     ]
    }
   ],
   "source": [
    "# mean, max, min, and variance\n",
    "print(\"Mean value is: \", arr2.mean())\n",
    "print(\"Max value is: \", arr2.max())\n",
    "print(\"Min value is: \", arr2.min())\n",
    "print(\"Variance value is: \", arr2.var())"
   ]
  },
  {
   "cell_type": "markdown",
   "metadata": {},
   "source": [
    "### How to create a new array from an existing array?\n",
    "If you just assign a portion of an array to another array, the new array you just created actually refers to the parent array in memory.\n",
    "That means, if you make any changes to the new array, it will reflect in the parent array as well.\n",
    "So to avoid disturbing the parent array, you need to make a copy of it using `copy()`. All numpy arrays come with the `copy()` method."
   ]
  },
  {
   "cell_type": "code",
   "execution_count": 14,
   "metadata": {},
   "outputs": [
    {
     "data": {
      "text/plain": [
       "array([[  1.,   2.,   3.,   4.],\n",
       "       [  3., 100.,   5.,   6.],\n",
       "       [  5.,   6.,   7.,   8.]])"
      ]
     },
     "execution_count": 14,
     "metadata": {},
     "output_type": "execute_result"
    }
   ],
   "source": [
    "# Assign portion of arr2 to arr2a. Doesn't really create a new array.\n",
    "arr2a = arr2[:2,:2]  \n",
    "arr2a[1, 1] = 100  # 100 will reflect in arr2\n",
    "arr2"
   ]
  },
  {
   "cell_type": "code",
   "execution_count": 15,
   "metadata": {},
   "outputs": [
    {
     "data": {
      "text/plain": [
       "array([[  1.,   2.,   3.,   4.],\n",
       "       [  3., 100.,   5.,   6.],\n",
       "       [  5.,   6.,   7.,   8.]])"
      ]
     },
     "execution_count": 15,
     "metadata": {},
     "output_type": "execute_result"
    }
   ],
   "source": [
    "# Copy portion of arr2 to arr2b\n",
    "arr2b = arr2[:2, :2].copy()\n",
    "arr2b[1, 1] = 101  # 101 will not reflect in arr2\n",
    "arr2"
   ]
  },
  {
   "cell_type": "markdown",
   "metadata": {},
   "source": [
    "### How to generate random numbers?\n",
    "The `random` module provides nice functions to generate random numbers (and also statistical distributions) of any given shape."
   ]
  },
  {
   "cell_type": "code",
   "execution_count": 16,
   "metadata": {},
   "outputs": [
    {
     "name": "stdout",
     "output_type": "stream",
     "text": [
      "Random numbers between [0,1) of shape 2,2\n",
      "[[0.00482472 0.0974771 ]\n",
      " [0.77546084 0.60609847]]\n",
      "Normal distribution with mean=0 and variance=1 of shape 2,2\n",
      "[[-0.49931307 -0.65226717]\n",
      " [ 0.24188207 -2.60915332]]\n",
      "Random integers between [0, 10) of shape 2,2\n",
      "[[3 2]\n",
      " [4 2]]\n",
      "One random number between [0,1)\n",
      "0.1557443090616697\n",
      "Random numbers between [0,1) of shape 2,2\n",
      "[[0.19840699 0.87526976]\n",
      " [0.09857304 0.56929571]]\n",
      "Pick 10 items from a given list, with equal probability\n",
      "['e' 'o' 'o' 'e' 'u' 'i' 'u' 'o' 'a' 'e']\n",
      "Pick 10 items from a given list with a predefined probability 'p'\n",
      "['a' 'e' 'i' 'o' 'o' 'a' 'e' 'a' 'i' 'a']\n"
     ]
    }
   ],
   "source": [
    "print('Random numbers between [0,1) of shape 2,2')\n",
    "print(np.random.rand(2,2))\n",
    "\n",
    "print('Normal distribution with mean=0 and variance=1 of shape 2,2')\n",
    "print(np.random.randn(2,2))\n",
    "\n",
    "print('Random integers between [0, 10) of shape 2,2')\n",
    "print(np.random.randint(0, 10, size=[2,2]))\n",
    "\n",
    "print('One random number between [0,1)')\n",
    "print(np.random.random())\n",
    "\n",
    "print('Random numbers between [0,1) of shape 2,2')\n",
    "print(np.random.random(size=[2,2]))\n",
    "\n",
    "print('Pick 10 items from a given list, with equal probability')\n",
    "print(np.random.choice(['a', 'e', 'i', 'o', 'u'], size=10))  \n",
    "\n",
    "print('Pick 10 items from a given list with a predefined probability \\'p\\'')\n",
    "print(np.random.choice(['a', 'e', 'i', 'o', 'u'], size=10, p=[0.3, .1, 0.1, 0.4, 0.1]))  # picks more o's"
   ]
  },
  {
   "cell_type": "markdown",
   "metadata": {},
   "source": [
    "### How to do simple operations on array?\n",
    "We have demonstrated how to create and change Arrays. Now, we want to show how we can perform basic arithmetics with NumPy module. The arithemtic standard Operators `+`, `-`, `*`, `/`, `**`, `%` are applied on the elements, this means that the arrays have to have the same size."
   ]
  },
  {
   "cell_type": "code",
   "execution_count": 17,
   "metadata": {},
   "outputs": [
    {
     "name": "stdout",
     "output_type": "stream",
     "text": [
      "x: [1 5 2]\n",
      "y: [7 4 1]\n",
      "x + y\n",
      "[8 9 3]\n",
      "x - y\n",
      "[-6  1  1]\n",
      "x * y\n",
      "[ 7 20  2]\n",
      "x / y\n",
      "[0.14285714 1.25       2.        ]\n",
      "x ** y\n",
      "[  1 625   2]\n",
      "x % y\n",
      "[1 1 0]\n"
     ]
    }
   ],
   "source": [
    "# standard Operators\n",
    "x = np.array([1,5,2])\n",
    "print('x: {}'.format(x))\n",
    "y = np.array([7,4,1])\n",
    "print('y: {}'.format(y))\n",
    "print('x + y')\n",
    "print(x + y)\n",
    "print('x - y')\n",
    "print(x - y)\n",
    "print('x * y')\n",
    "print(x * y)\n",
    "print('x / y')\n",
    "print(x / y)\n",
    "print('x ** y')\n",
    "print(x ** y)\n",
    "print('x % y')\n",
    "print(x % y) # modulo"
   ]
  },
  {
   "cell_type": "code",
   "execution_count": 18,
   "metadata": {},
   "outputs": [
    {
     "data": {
      "text/plain": [
       "array([8, 9, 3])"
      ]
     },
     "execution_count": 18,
     "metadata": {},
     "output_type": "execute_result"
    }
   ],
   "source": [
    "# Vector Addition and Subtraction\n",
    "z = x + y\n",
    "z"
   ]
  },
  {
   "cell_type": "code",
   "execution_count": 19,
   "metadata": {},
   "outputs": [
    {
     "data": {
      "text/plain": [
       "29"
      ]
     },
     "execution_count": 19,
     "metadata": {},
     "output_type": "execute_result"
    }
   ],
   "source": [
    "# Dot Product\n",
    "z = np.dot(x,y)\n",
    "z"
   ]
  },
  {
   "cell_type": "code",
   "execution_count": 20,
   "metadata": {},
   "outputs": [
    {
     "data": {
      "text/plain": [
       "array(-1)"
      ]
     },
     "execution_count": 20,
     "metadata": {},
     "output_type": "execute_result"
    }
   ],
   "source": [
    "# Cross Product\n",
    "x = np.array([0,1])\n",
    "y = np.array([1,0])\n",
    "z = np.cross(x,y)\n",
    "z"
   ]
  },
  {
   "cell_type": "code",
   "execution_count": 23,
   "metadata": {},
   "outputs": [
    {
     "name": "stdout",
     "output_type": "stream",
     "text": [
      "a:\n"
     ]
    },
    {
     "data": {
      "text/plain": [
       "array([[1, 0],\n",
       "       [0, 1]])"
      ]
     },
     "metadata": {},
     "output_type": "display_data"
    },
    {
     "name": "stdout",
     "output_type": "stream",
     "text": [
      "b:\n"
     ]
    },
    {
     "data": {
      "text/plain": [
       "array([[4, 1],\n",
       "       [2, 2]])"
      ]
     },
     "execution_count": 23,
     "metadata": {},
     "output_type": "execute_result"
    }
   ],
   "source": [
    "# 2d array\n",
    "a = np.array([[1, 0],[0, 1]])\n",
    "print('a:')\n",
    "display(a)\n",
    "b = np.array([[4, 1],[2, 2]])\n",
    "print('b:')\n",
    "b"
   ]
  },
  {
   "cell_type": "code",
   "execution_count": 24,
   "metadata": {},
   "outputs": [
    {
     "data": {
      "text/plain": [
       "array([[4, 1],\n",
       "       [2, 2]])"
      ]
     },
     "execution_count": 24,
     "metadata": {},
     "output_type": "execute_result"
    }
   ],
   "source": [
    "np.matmul(a, b)"
   ]
  },
  {
   "cell_type": "code",
   "execution_count": 25,
   "metadata": {},
   "outputs": [
    {
     "data": {
      "text/plain": [
       "array([[4, 0],\n",
       "       [0, 2]])"
      ]
     },
     "execution_count": 25,
     "metadata": {},
     "output_type": "execute_result"
    }
   ],
   "source": [
    "a * b"
   ]
  },
  {
   "cell_type": "code",
   "execution_count": null,
   "metadata": {},
   "outputs": [],
   "source": []
  }
 ],
 "metadata": {
  "kernelspec": {
   "display_name": "Python 3 (ipykernel)",
   "language": "python",
   "name": "python3"
  },
  "language_info": {
   "codemirror_mode": {
    "name": "ipython",
    "version": 3
   },
   "file_extension": ".py",
   "mimetype": "text/x-python",
   "name": "python",
   "nbconvert_exporter": "python",
   "pygments_lexer": "ipython3",
   "version": "3.7.11"
  }
 },
 "nbformat": 4,
 "nbformat_minor": 2
}
